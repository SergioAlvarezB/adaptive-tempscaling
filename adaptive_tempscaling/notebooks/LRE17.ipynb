{
 "cells": [
  {
   "cell_type": "markdown",
   "metadata": {},
   "source": [
    "# Analysis of calibration in NIST LRE17"
   ]
  },
  {
   "cell_type": "code",
   "execution_count": 1,
   "metadata": {},
   "outputs": [],
   "source": [
    "%load_ext autoreload"
   ]
  },
  {
   "cell_type": "code",
   "execution_count": 2,
   "metadata": {},
   "outputs": [],
   "source": [
    "%autoreload 1"
   ]
  },
  {
   "cell_type": "code",
   "execution_count": 30,
   "metadata": {},
   "outputs": [],
   "source": [
    "import os\n",
    "import sys\n",
    "import time\n",
    "import h5py\n",
    "sys.path.extend(['..'])\n",
    "\n",
    "import numpy as np\n",
    "import matplotlib.pyplot as plt\n",
    "import torch\n",
    "from torch.utils.data import DataLoader\n",
    "from torchvision import transforms\n",
    "from torch.nn.functional import softmax as torch_softmax\n",
    "\n",
    "from mixNmatch_cal import temperature_scaling\n",
    "from scipy_models import LTS, HTS, HistTS, TS, HnLTS, BTS\n",
    "from models import AdaTS, PTS\n",
    "from models import LTS as LTS_torch\n",
    "from models import HTS as HTS_torch\n",
    "from models import HnLTS as HnLTS_torch\n",
    "%aimport utils\n",
    "from utils import compare_results, calib_split, get_CIFAR10_C, NumpyDataset, load_model, predict_logits, compute_metrics, onehot_encode, softmax, torch_entropy, torch\n",
    "%aimport adats_utils\n",
    "from adats_utils import fitAdaTS, fitCV_AdaTS, fitHistTS\n",
    "%aimport mixNmatch_cal\n",
    "from mixNmatch_cal import ets_calibrate, mir_calibrate"
   ]
  },
  {
   "cell_type": "code",
   "execution_count": 34,
   "metadata": {},
   "outputs": [],
   "source": [
    "from psrcal.calibration import calibrate, AffineCalLogLoss\n",
    "from psrcal.optim.vecmodule import lbfgs"
   ]
  },
  {
   "cell_type": "markdown",
   "metadata": {},
   "source": [
    "### Data"
   ]
  },
  {
   "cell_type": "code",
   "execution_count": 5,
   "metadata": {},
   "outputs": [],
   "source": [
    "f = h5py.File(\"../../data/LRE17/exp_001_w75_embeddings_lre17_post_eval.h5\", 'r')"
   ]
  },
  {
   "cell_type": "code",
   "execution_count": 6,
   "metadata": {},
   "outputs": [],
   "source": [
    "text_file = open(\"../../data/LRE17/lre17_primary_full_dev.lst_and_key\", \"r\")\n",
    "dev_keys = text_file.read().split(\"\\n\")[:-1]\n",
    "text_file.close()\n",
    "\n",
    "text_file = open(\"../../data/LRE17/lre17_primary_full_evl.lst_and_key\", \"r\")\n",
    "eval_keys = text_file.read().split(\"\\n\")[:-1]\n",
    "text_file.close()"
   ]
  },
  {
   "cell_type": "code",
   "execution_count": 7,
   "metadata": {},
   "outputs": [],
   "source": [
    "dev_target = {}\n",
    "for file in dev_keys:\n",
    "    k, v = file.split(\" \")\n",
    "    dev_target[k] = v\n",
    "    \n",
    "eval_target = {}\n",
    "for file in eval_keys:\n",
    "    k, v = file.split(\" \")\n",
    "    eval_target[k] = v"
   ]
  },
  {
   "cell_type": "code",
   "execution_count": 8,
   "metadata": {},
   "outputs": [],
   "source": [
    "lang2ix = {l.decode(\"utf-8\"): i for i, l in enumerate(f['classes'][:])}"
   ]
  },
  {
   "cell_type": "code",
   "execution_count": 9,
   "metadata": {},
   "outputs": [],
   "source": [
    "X_val = f['cal_datamat'][:]\n",
    "X_test = f['eval_datamat'][:]\n",
    "\n",
    "Y_val = np.zeros(f['cal_datamat'].shape[0], dtype=np.int64)\n",
    "for i, name in enumerate(f['cal_segnames'][:]):\n",
    "    Y_val[i] = lang2ix[dev_target[name.decode(\"utf-8\")]]\n",
    "    \n",
    "Y_test = np.zeros(f['eval_datamat'].shape[0], dtype=np.int64)\n",
    "for i, name in enumerate(f['eval_segnames'][:]):\n",
    "    Y_test[i] = lang2ix[eval_target[name.decode(\"utf-8\")]]"
   ]
  },
  {
   "cell_type": "markdown",
   "metadata": {},
   "source": [
    "### Calibration"
   ]
  },
  {
   "cell_type": "code",
   "execution_count": 10,
   "metadata": {},
   "outputs": [
    {
     "name": "stdout",
     "output_type": "stream",
     "text": [
      "Optimization terminated successfully.\n",
      "         Current function value: 4306.638409\n",
      "         Iterations: 14\n",
      "         Function evaluations: 15\n",
      "         Gradient evaluations: 15\n"
     ]
    }
   ],
   "source": [
    "dim = 14\n",
    "\n",
    "### Temp-Scal as baseline:\n",
    "tempScaler = TS(dim)\n",
    "tempScaler.fit(X_val, Y_val, v=True);"
   ]
  },
  {
   "cell_type": "code",
   "execution_count": 45,
   "metadata": {},
   "outputs": [
    {
     "data": {
      "text/plain": [
       "array([13.95839057])"
      ]
     },
     "execution_count": 45,
     "metadata": {},
     "output_type": "execute_result"
    }
   ],
   "source": [
    "tempScaler.t"
   ]
  },
  {
   "cell_type": "code",
   "execution_count": 36,
   "metadata": {},
   "outputs": [],
   "source": [
    "focal = AffineCalLogLoss(torch.as_tensor(X_val), torch.as_tensor(Y_val))\n",
    "paramvec, value, curve = lbfgs(focal, 100, quiet=True)"
   ]
  },
  {
   "cell_type": "code",
   "execution_count": 43,
   "metadata": {},
   "outputs": [
    {
     "data": {
      "text/plain": [
       "array([ 0.09604245, -1.71607284, -2.3634115 ,  1.40027348, -1.48369855,\n",
       "       -2.02408611, -0.96301439,  2.05101832,  2.88106684,  4.4172876 ,\n",
       "       -1.11706341,  0.82904941, -1.11411781, -1.70555521,  0.90832418])"
      ]
     },
     "execution_count": 43,
     "metadata": {},
     "output_type": "execute_result"
    }
   ],
   "source": [
    "paramvec"
   ]
  },
  {
   "cell_type": "code",
   "execution_count": 23,
   "metadata": {},
   "outputs": [
    {
     "name": "stdout",
     "output_type": "stream",
     "text": [
      "On epoch: 1624, loss: 4.069e+03, at time: 169.46s\n",
      "Finish training, convergence reached. Loss: 4069.10 \n",
      "\n"
     ]
    }
   ],
   "source": [
    "pts = AdaTS(PTS(dim)).double()\n",
    "pts = fitAdaTS(pts, X_val, Y_val, epochs=30000, batch_size=100, lr=1e-3, v=True)"
   ]
  },
  {
   "cell_type": "code",
   "execution_count": 24,
   "metadata": {},
   "outputs": [
    {
     "name": "stdout",
     "output_type": "stream",
     "text": [
      "On epoch: 1924, loss: 4.291e+03, at time: 135.26s\n",
      "Finish training, convergence reached. Loss: 4290.76 \n",
      "\n"
     ]
    }
   ],
   "source": [
    "hts_t = AdaTS(HTS_torch(dim))\n",
    "hts_t = fitAdaTS(hts_t, X_val, Y_val, epochs=30000, batch_size=100, lr=1e-3, v=True)"
   ]
  },
  {
   "cell_type": "code",
   "execution_count": 25,
   "metadata": {},
   "outputs": [],
   "source": [
    "hisTS = HistTS()\n",
    "hisTS.fit(X_val, Y_val)"
   ]
  },
  {
   "cell_type": "code",
   "execution_count": 39,
   "metadata": {},
   "outputs": [
    {
     "name": "stdout",
     "output_type": "stream",
     "text": [
      "##### Results on val set:\n",
      "Calibrator      Accuracy           ECE           MCE   Brier Score           NLL\n",
      "Uncal              77.39%        20.66%        59.47%    4.238e-01     3.014e+00\n",
      "TempScal           77.39%         5.51%        18.98%    3.101e-01     7.072e-01\n",
      "HTS_torch          77.39%         4.67%        17.87%    3.092e-01     7.046e-01\n",
      "PTS                77.39%         2.66%        22.60%    3.007e-01     6.682e-01\n",
      "histTS             77.39%        20.66%        59.47%    4.238e-01     3.014e+00\n",
      "focal              83.55%         4.38%        22.09%    2.379e-01     5.029e-01\n"
     ]
    }
   ],
   "source": [
    "print('##### Results on val set:')\n",
    "compare_results(predictions={'Uncal': softmax(X_val, axis=1),\n",
    "                             'TempScal': tempScaler.predictive(X_val),\n",
    "                             'HTS_torch': hts_t.predictive(torch.as_tensor(X_val)),\n",
    "                             'PTS': pts.predictive(torch.as_tensor(X_val)),\n",
    "                             'histTS': hisTS.predictive(torch.as_tensor(X_val)),\n",
    "                             'focal': torch_softmax(focal.calibrate(torch.as_tensor(X_val)), dim=1)}, target=Y_val, M=50, from_logits=False);"
   ]
  },
  {
   "cell_type": "code",
   "execution_count": 41,
   "metadata": {},
   "outputs": [
    {
     "name": "stdout",
     "output_type": "stream",
     "text": [
      "##### Results on test set:\n",
      "Calibrator      Accuracy           ECE           MCE   Brier Score           NLL\n",
      "Uncal              70.28%        27.47%        59.83%    5.640e-01     4.223e+00\n",
      "TempScal           70.28%         4.29%        15.44%    3.904e-01     8.863e-01\n",
      "HTS_torch          70.28%         3.74%        15.63%    3.903e-01     8.823e-01\n",
      "PTS                70.28%         4.48%        11.68%    3.918e-01     9.064e-01\n",
      "histTS             70.28%        27.47%        59.83%    5.640e-01     4.223e+00\n",
      "focal              75.74%         3.14%        17.17%    3.303e-01     7.022e-01\n"
     ]
    }
   ],
   "source": [
    "print('##### Results on test set:')\n",
    "compare_results(predictions={'Uncal': softmax(X_test, axis=1),\n",
    "                             'TempScal': tempScaler.predictive(X_test),\n",
    "                             'HTS_torch': hts_t.predictive(torch.as_tensor(X_test)),\n",
    "                             'PTS': pts.predictive(torch.as_tensor(X_test)),\n",
    "                             'histTS': hisTS.predictive(torch.as_tensor(X_test)),\n",
    "                             'focal': torch_softmax(focal.calibrate(torch.as_tensor(X_test)), dim=1)}, target=Y_test, M=50, from_logits=False);"
   ]
  },
  {
   "cell_type": "code",
   "execution_count": null,
   "metadata": {},
   "outputs": [],
   "source": []
  }
 ],
 "metadata": {
  "kernelspec": {
   "display_name": "Python 3",
   "language": "python",
   "name": "python3"
  },
  "language_info": {
   "codemirror_mode": {
    "name": "ipython",
    "version": 3
   },
   "file_extension": ".py",
   "mimetype": "text/x-python",
   "name": "python",
   "nbconvert_exporter": "python",
   "pygments_lexer": "ipython3",
   "version": "3.8.5"
  }
 },
 "nbformat": 4,
 "nbformat_minor": 4
}
