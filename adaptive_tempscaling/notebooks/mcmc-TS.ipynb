{
 "cells": [
  {
   "cell_type": "markdown",
   "metadata": {},
   "source": [
    "# Bayesian temp-Scaling"
   ]
  },
  {
   "cell_type": "code",
   "execution_count": 1,
   "metadata": {},
   "outputs": [],
   "source": [
    "import os\n",
    "import sys\n",
    "import time\n",
    "\n",
    "import torch\n",
    "import numpy as np\n",
    "import pandas as pd\n",
    "import matplotlib\n",
    "import matplotlib.pyplot as plt\n",
    "from matplotlib.lines import Line2D\n",
    "from scipy.stats import entropy, gaussian_kde\n",
    "from torch.nn.functional import softmax as torch_softmax\n",
    "\n",
    "from adaptive_tempscaling.models import TempScaling\n",
    "from adaptive_tempscaling.bnn_models import BNN_GVILR\n",
    "from adaptive_tempscaling.bayesian_models import BayesianTempScaling_N\n",
    "from adaptive_tempscaling.utils import load_precomputedlogits, compare_results, mutual_info"
   ]
  },
  {
   "cell_type": "code",
   "execution_count": 2,
   "metadata": {},
   "outputs": [],
   "source": [
    "from adaptive_tempscaling.pyro_models import TempScaling"
   ]
  },
  {
   "cell_type": "code",
   "execution_count": 3,
   "metadata": {},
   "outputs": [],
   "source": [
    "mcmc_TS = TempScaling()"
   ]
  },
  {
   "cell_type": "code",
   "execution_count": 6,
   "metadata": {},
   "outputs": [
    {
     "name": "stderr",
     "output_type": "stream",
     "text": [
      "Warmup:   0%|          | 0/1000 [00:00, ?it/s]"
     ]
    },
    {
     "name": "stderr",
     "output_type": "stream",
     "text": [
      "Sample: 100%|██████████| 1000/1000 [00:02, 389.72it/s, step size=1.01e+00, acc. prob=0.909]\n"
     ]
    }
   ],
   "source": [
    "mcmc_TS.fit(X_val=X_val, Y_val=Y_val)"
   ]
  },
  {
   "cell_type": "code",
   "execution_count": 7,
   "metadata": {},
   "outputs": [
    {
     "data": {
      "text/plain": [
       "tensor([[[ 18.4347,  -3.3207,  -2.3731,  ...,   0.2000,   2.6378,   0.9901],\n",
       "         [ 18.9018,  -3.7993,  -4.3016,  ...,  -4.4236,  -1.0662,   2.9224],\n",
       "         [ 15.3536,  -2.8766,  -0.3278,  ...,  -1.5241,  -1.6105,  -3.2617],\n",
       "         ...,\n",
       "         [-10.7779,  -3.0752,   0.5788,  ...,   0.1008,   6.7268,  20.4930],\n",
       "         [-12.4479,  -3.3781,  -4.6270,  ...,  -1.5091,  11.4214,  27.0742],\n",
       "         [ -9.7249,  -2.5535,  -0.8377,  ...,  -1.3883,  11.4015,  22.2479]]])"
      ]
     },
     "execution_count": 7,
     "metadata": {},
     "output_type": "execute_result"
    }
   ],
   "source": [
    "mcmc_TS.predict(X_test=X_test)"
   ]
  },
  {
   "cell_type": "code",
   "execution_count": 9,
   "metadata": {},
   "outputs": [
    {
     "data": {
      "text/plain": [
       "{'obs': tensor([[  0,   0,   0,  ..., 195, 195, 195],\n",
       "         [  0,   0,   0,  ..., 195, 195, 195],\n",
       "         [  0,   0,   0,  ..., 195, 195, 195],\n",
       "         ...,\n",
       "         [  0,   0,   0,  ..., 195, 195, 195],\n",
       "         [  0,   0,   0,  ..., 195, 195, 195],\n",
       "         [  0,   0,   0,  ..., 195, 195, 195]]),\n",
       " 'calibrated_logits': tensor([[[[ 18.4192,  -3.3179,  -2.3711,  ...,   0.1998,   2.6355,   0.9892],\n",
       "           [ 18.8858,  -3.7961,  -4.2980,  ...,  -4.4199,  -1.0653,   2.9199],\n",
       "           [ 15.3406,  -2.8742,  -0.3276,  ...,  -1.5228,  -1.6091,  -3.2590],\n",
       "           ...,\n",
       "           [-10.7688,  -3.0726,   0.5783,  ...,   0.1007,   6.7211,  20.4757],\n",
       "           [-12.4374,  -3.3752,  -4.6231,  ...,  -1.5078,  11.4117,  27.0513],\n",
       "           [ -9.7167,  -2.5514,  -0.8370,  ...,  -1.3871,  11.3918,  22.2292]]],\n",
       " \n",
       " \n",
       "         [[[ 18.7654,  -3.3803,  -2.4156,  ...,   0.2036,   2.6851,   1.0078],\n",
       "           [ 19.2408,  -3.8674,  -4.3788,  ...,  -4.5030,  -1.0853,   2.9748],\n",
       "           [ 15.6290,  -2.9282,  -0.3337,  ...,  -1.5515,  -1.6393,  -3.3203],\n",
       "           ...,\n",
       "           [-10.9712,  -3.1304,   0.5891,  ...,   0.1026,   6.8475,  20.8606],\n",
       "           [-12.6712,  -3.4387,  -4.7100,  ...,  -1.5362,  11.6263,  27.5598],\n",
       "           [ -9.8993,  -2.5993,  -0.8528,  ...,  -1.4132,  11.6060,  22.6470]]],\n",
       " \n",
       " \n",
       "         [[[ 17.5834,  -3.1674,  -2.2635,  ...,   0.1908,   2.5159,   0.9444],\n",
       "           [ 18.0289,  -3.6238,  -4.1029,  ...,  -4.2193,  -1.0169,   2.7874],\n",
       "           [ 14.6446,  -2.7437,  -0.3127,  ...,  -1.4537,  -1.5361,  -3.1111],\n",
       "           ...,\n",
       "           [-10.2802,  -2.9332,   0.5520,  ...,   0.0962,   6.4162,  19.5466],\n",
       "           [-11.8731,  -3.2221,  -4.4133,  ...,  -1.4394,  10.8939,  25.8239],\n",
       "           [ -9.2758,  -2.4356,  -0.7991,  ...,  -1.3242,  10.8749,  21.2205]]],\n",
       " \n",
       " \n",
       "         ...,\n",
       " \n",
       " \n",
       "         [[[ 18.4069,  -3.3157,  -2.3695,  ...,   0.1997,   2.6338,   0.9886],\n",
       "           [ 18.8732,  -3.7935,  -4.2951,  ...,  -4.4169,  -1.0645,   2.9179],\n",
       "           [ 15.3304,  -2.8722,  -0.3273,  ...,  -1.5218,  -1.6080,  -3.2568],\n",
       "           ...,\n",
       "           [-10.7616,  -3.0706,   0.5779,  ...,   0.1007,   6.7166,  20.4620],\n",
       "           [-12.4291,  -3.3730,  -4.6200,  ...,  -1.5068,  11.4041,  27.0332],\n",
       "           [ -9.7102,  -2.5497,  -0.8365,  ...,  -1.3862,  11.3842,  22.2143]]],\n",
       " \n",
       " \n",
       "         [[[ 18.3770,  -3.3103,  -2.3656,  ...,   0.1994,   2.6295,   0.9870],\n",
       "           [ 18.8426,  -3.7874,  -4.2881,  ...,  -4.4097,  -1.0628,   2.9132],\n",
       "           [ 15.3055,  -2.8676,  -0.3268,  ...,  -1.5193,  -1.6054,  -3.2515],\n",
       "           ...,\n",
       "           [-10.7441,  -3.0656,   0.5770,  ...,   0.1005,   6.7057,  20.4288],\n",
       "           [-12.4089,  -3.3675,  -4.6125,  ...,  -1.5044,  11.3856,  26.9894],\n",
       "           [ -9.6944,  -2.5455,  -0.8351,  ...,  -1.3840,  11.3658,  22.1783]]],\n",
       " \n",
       " \n",
       "         [[[ 18.5895,  -3.3486,  -2.3930,  ...,   0.2017,   2.6599,   0.9984],\n",
       "           [ 19.0605,  -3.8312,  -4.3377,  ...,  -4.4608,  -1.0751,   2.9469],\n",
       "           [ 15.4825,  -2.9007,  -0.3306,  ...,  -1.5369,  -1.6240,  -3.2891],\n",
       "           ...,\n",
       "           [-10.8684,  -3.1010,   0.5836,  ...,   0.1017,   6.7833,  20.6651],\n",
       "           [-12.5525,  -3.4064,  -4.6658,  ...,  -1.5218,  11.5173,  27.3015],\n",
       "           [ -9.8065,  -2.5750,  -0.8448,  ...,  -1.4000,  11.4972,  22.4348]]]])}"
      ]
     },
     "execution_count": 9,
     "metadata": {},
     "output_type": "execute_result"
    }
   ],
   "source": [
    "mcmc_TS.predictive"
   ]
  },
  {
   "cell_type": "code",
   "execution_count": 17,
   "metadata": {},
   "outputs": [],
   "source": [
    "import pyro\n",
    "\n",
    "import pyro.distributions as dist\n",
    "import pyro.distributions.constraints as constraints\n",
    "from pyro.infer import MCMC, NUTS, Predictive"
   ]
  },
  {
   "cell_type": "code",
   "execution_count": 4,
   "metadata": {},
   "outputs": [],
   "source": [
    "DATASET = 'cars'\n",
    "MODEL = 'resnet-18'\n",
    "dev = torch.device('mps')"
   ]
  },
  {
   "cell_type": "code",
   "execution_count": 5,
   "metadata": {},
   "outputs": [],
   "source": [
    "train, validation, test = load_precomputedlogits(dataset=DATASET, model=MODEL, data_path='../../data', to_tensor=True)\n",
    "\n",
    "X_train, Y_train = train\n",
    "X_val, Y_val = validation\n",
    "X_test, Y_test = test\n",
    "\n",
    "N, dim = X_train.shape"
   ]
  },
  {
   "cell_type": "code",
   "execution_count": 8,
   "metadata": {},
   "outputs": [],
   "source": [
    "def mcmc_TS(logits, targets):\n",
    "    invT = pyro.sample(\"invT\", dist.LogNormal(0, 0.25))\n",
    "\n",
    "    calibrated_logits = logits * invT\n",
    "    with pyro.plate('data', len(logits)):\n",
    "        return pyro.sample(\"obs\", dist.Categorical(logits=calibrated_logits), obs=targets)\n",
    "\n"
   ]
  },
  {
   "cell_type": "code",
   "execution_count": 9,
   "metadata": {},
   "outputs": [
    {
     "data": {
      "image/svg+xml": [
       "<?xml version=\"1.0\" encoding=\"UTF-8\" standalone=\"no\"?>\n",
       "<!DOCTYPE svg PUBLIC \"-//W3C//DTD SVG 1.1//EN\"\n",
       " \"http://www.w3.org/Graphics/SVG/1.1/DTD/svg11.dtd\">\n",
       "<!-- Generated by graphviz version 12.1.0 (20240811.2233)\n",
       " -->\n",
       "<!-- Pages: 1 -->\n",
       "<svg width=\"217pt\" height=\"162pt\"\n",
       " viewBox=\"0.00 0.00 216.75 161.50\" xmlns=\"http://www.w3.org/2000/svg\" xmlns:xlink=\"http://www.w3.org/1999/xlink\">\n",
       "<g id=\"graph0\" class=\"graph\" transform=\"scale(1 1) rotate(0) translate(4 157.5)\">\n",
       "<polygon fill=\"white\" stroke=\"none\" points=\"-4,4 -4,-157.5 212.75,-157.5 212.75,4 -4,4\"/>\n",
       "<g id=\"clust1\" class=\"cluster\">\n",
       "<title>cluster_data</title>\n",
       "<polygon fill=\"none\" stroke=\"black\" points=\"8,-8 8,-84.5 78,-84.5 78,-8 8,-8\"/>\n",
       "<text text-anchor=\"middle\" x=\"58.75\" y=\"-15.2\" font-family=\"Times,serif\" font-size=\"14.00\">data</text>\n",
       "</g>\n",
       "<!-- invT -->\n",
       "<g id=\"node1\" class=\"node\">\n",
       "<title>invT</title>\n",
       "<ellipse fill=\"white\" stroke=\"black\" cx=\"43\" cy=\"-133\" rx=\"28.32\" ry=\"18\"/>\n",
       "<text text-anchor=\"middle\" x=\"43\" y=\"-127.95\" font-family=\"Times,serif\" font-size=\"14.00\">invT</text>\n",
       "</g>\n",
       "<!-- obs -->\n",
       "<g id=\"node2\" class=\"node\">\n",
       "<title>obs</title>\n",
       "<ellipse fill=\"gray\" stroke=\"black\" cx=\"43\" cy=\"-58.5\" rx=\"27\" ry=\"18\"/>\n",
       "<text text-anchor=\"middle\" x=\"43\" y=\"-53.45\" font-family=\"Times,serif\" font-size=\"14.00\">obs</text>\n",
       "</g>\n",
       "<!-- invT&#45;&gt;obs -->\n",
       "<g id=\"edge1\" class=\"edge\">\n",
       "<title>invT&#45;&gt;obs</title>\n",
       "<path fill=\"none\" stroke=\"black\" d=\"M43,-114.82C43,-106.78 43,-97 43,-87.91\"/>\n",
       "<polygon fill=\"black\" stroke=\"black\" points=\"46.5,-88.07 43,-78.07 39.5,-88.07 46.5,-88.07\"/>\n",
       "</g>\n",
       "<!-- distribution_description_node -->\n",
       "<g id=\"node3\" class=\"node\">\n",
       "<title>distribution_description_node</title>\n",
       "<text text-anchor=\"start\" x=\"97.25\" y=\"-136.2\" font-family=\"Times,serif\" font-size=\"14.00\">invT ~ LogNormal</text>\n",
       "<text text-anchor=\"start\" x=\"97.25\" y=\"-119.7\" font-family=\"Times,serif\" font-size=\"14.00\">obs ~ Categorical</text>\n",
       "</g>\n",
       "</g>\n",
       "</svg>\n"
      ],
      "text/plain": [
       "<graphviz.graphs.Digraph at 0x10d8bfc10>"
      ]
     },
     "execution_count": 9,
     "metadata": {},
     "output_type": "execute_result"
    }
   ],
   "source": [
    "pyro.render_model(mcmc_TS, model_args=(X_val, Y_val), render_distributions=True)"
   ]
  },
  {
   "cell_type": "code",
   "execution_count": 11,
   "metadata": {},
   "outputs": [],
   "source": [
    "nuts_kernel = NUTS(mcmc_TS)\n",
    "mcmc = MCMC(nuts_kernel, num_samples=500)"
   ]
  },
  {
   "cell_type": "code",
   "execution_count": 13,
   "metadata": {},
   "outputs": [
    {
     "name": "stderr",
     "output_type": "stream",
     "text": [
      "Sample: 100%|██████████| 1000/1000 [00:03, 302.41it/s, step size=1.06e+00, acc. prob=0.915]\n"
     ]
    }
   ],
   "source": [
    "mcmc.run(X_val, Y_val);"
   ]
  },
  {
   "cell_type": "code",
   "execution_count": 24,
   "metadata": {},
   "outputs": [],
   "source": [
    "samples = mcmc.get_samples()\n",
    "posterior_T = samples['invT']**(-1)"
   ]
  },
  {
   "cell_type": "code",
   "execution_count": 28,
   "metadata": {},
   "outputs": [
    {
     "data": {
      "image/png": "[encoded data removed]",
      "text/plain": [
       "<Figure size 1000x600 with 1 Axes>"
      ]
     },
     "metadata": {},
     "output_type": "display_data"
    }
   ],
   "source": [
    "data = posterior_T.detach().numpy().flatten()\n",
    "\n",
    "# Calculate the kernel density estimation\n",
    "kde = gaussian_kde(data)\n",
    "x_range = np.linspace(0, 2, 500)\n",
    "y_values = kde(x_range)\n",
    "\n",
    "# Create the plot\n",
    "plt.figure(figsize=(10, 6))\n",
    "plt.plot(x_range, y_values, 'b-', label='KDE')\n",
    "plt.hist(data, bins=30, density=True, alpha=0.5, color='g', label='Histogram')\n",
    "plt.xlabel('Value')\n",
    "plt.ylabel('Density')\n",
    "plt.title('Density Distribution Plot')\n",
    "plt.legend()\n",
    "plt.grid(True, alpha=0.3)\n",
    "\n",
    "# Show the plot\n",
    "plt.show()"
   ]
  },
  {
   "cell_type": "code",
   "execution_count": 18,
   "metadata": {},
   "outputs": [
    {
     "name": "stdout",
     "output_type": "stream",
     "text": [
      "obs: (500, 6081)\n"
     ]
    }
   ],
   "source": [
    "predictive = Predictive(mcmc_TS, samples)(X_test, None)\n",
    "for k, v in predictive.items():\n",
    "    print(f\"{k}: {tuple(v.shape)}\")"
   ]
  },
  {
   "cell_type": "code",
   "execution_count": 21,
   "metadata": {},
   "outputs": [
    {
     "data": {
      "text/plain": [
       "tensor([0, 0, 0, 0, 0, 0, 0, 0, 0, 0, 0, 0, 0, 0, 0, 0, 0, 0, 0, 0, 0, 0, 0, 0,\n",
       "        0, 0, 0, 0, 0, 0, 0, 0, 0, 0, 0, 0, 0, 0, 0, 0, 0, 0, 0, 0, 0, 0, 0, 0,\n",
       "        0, 0, 0, 0, 0, 0, 0, 0, 0, 0, 0, 0, 0, 0, 0, 0, 0, 0, 0, 0, 0, 0, 0, 0,\n",
       "        0, 0, 0, 0, 0, 0, 0, 0, 0, 0, 0, 0, 0, 0, 0, 0, 0, 0, 0, 0, 0, 0, 0, 0,\n",
       "        0, 0, 0, 0, 0, 0, 0, 0, 0, 0, 0, 0, 0, 0, 0, 0, 0, 0, 0, 0, 0, 0, 0, 0,\n",
       "        0, 0, 0, 0, 0, 0, 0, 0, 0, 0, 0, 0, 0, 0, 0, 0, 0, 0, 0, 0, 0, 0, 0, 0,\n",
       "        0, 0, 0, 0, 0, 0, 0, 0, 0, 0, 0, 0, 0, 0, 0, 0, 0, 0, 0, 0, 0, 0, 0, 0,\n",
       "        0, 0, 0, 0, 0, 0, 0, 0, 0, 0, 0, 0, 0, 0, 0, 0, 0, 0, 0, 0, 0, 0, 0, 0,\n",
       "        0, 0, 0, 0, 0, 0, 0, 0, 0, 0, 0, 0, 0, 0, 0, 0, 0, 0, 0, 0, 0, 0, 0, 0,\n",
       "        0, 0, 0, 0, 0, 0, 0, 0, 0, 0, 0, 0, 0, 0, 0, 0, 0, 0, 0, 0, 0, 0, 0, 0,\n",
       "        0, 0, 0, 0, 0, 0, 0, 0, 0, 0, 0, 0, 0, 0, 0, 0, 0, 0, 0, 0, 0, 0, 0, 0,\n",
       "        0, 0, 0, 0, 0, 0, 0, 0, 0, 0, 0, 0, 0, 0, 0, 0, 0, 0, 0, 0, 0, 0, 0, 0,\n",
       "        0, 0, 0, 0, 0, 0, 0, 0, 0, 0, 0, 0, 0, 0, 0, 0, 0, 0, 0, 0, 0, 0, 0, 0,\n",
       "        0, 0, 0, 0, 0, 0, 0, 0, 0, 0, 0, 0, 0, 0, 0, 0, 0, 0, 0, 0, 0, 0, 0, 0,\n",
       "        0, 0, 0, 0, 0, 0, 0, 0, 0, 0, 0, 0, 0, 0, 0, 0, 0, 0, 0, 0, 0, 0, 0, 0,\n",
       "        0, 0, 0, 0, 0, 0, 0, 0, 0, 0, 0, 0, 0, 0, 0, 0, 0, 0, 0, 0, 0, 0, 0, 0,\n",
       "        0, 0, 0, 0, 0, 0, 0, 0, 0, 0, 0, 0, 0, 0, 0, 0, 0, 0, 0, 0, 0, 0, 0, 0,\n",
       "        0, 0, 0, 0, 0, 0, 0, 0, 0, 0, 0, 0, 0, 0, 0, 0, 0, 0, 0, 0, 0, 0, 0, 0,\n",
       "        0, 0, 0, 0, 0, 0, 0, 0, 0, 0, 0, 0, 0, 0, 0, 0, 0, 0, 0, 0, 0, 0, 0, 0,\n",
       "        0, 0, 0, 0, 0, 0, 0, 0, 0, 0, 0, 0, 0, 0, 0, 0, 0, 0, 0, 0, 0, 0, 0, 0,\n",
       "        0, 0, 0, 0, 0, 0, 0, 0, 0, 0, 0, 0, 0, 0, 0, 0, 0, 0, 0, 0])"
      ]
     },
     "execution_count": 21,
     "metadata": {},
     "output_type": "execute_result"
    }
   ],
   "source": [
    "predictive['obs'][:, 1]"
   ]
  },
  {
   "cell_type": "code",
   "execution_count": null,
   "metadata": {},
   "outputs": [],
   "source": []
  }
 ],
 "metadata": {
  "kernelspec": {
   "display_name": ".venv",
   "language": "python",
   "name": "python3"
  },
  "language_info": {
   "codemirror_mode": {
    "name": "ipython",
    "version": 3
   },
   "file_extension": ".py",
   "mimetype": "text/x-python",
   "name": "python",
   "nbconvert_exporter": "python",
   "pygments_lexer": "ipython3",
   "version": "3.10.14"
  }
 },
 "nbformat": 4,
 "nbformat_minor": 2
}
