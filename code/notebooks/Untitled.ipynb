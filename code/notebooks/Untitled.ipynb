{
 "cells": [
  {
   "cell_type": "markdown",
   "id": "caafb26b",
   "metadata": {},
   "source": [
    "# Analysis of AdaTempScal on LeNet5 for CIFAR10"
   ]
  },
  {
   "cell_type": "code",
   "execution_count": 1,
   "id": "62306f2e",
   "metadata": {},
   "outputs": [],
   "source": [
    "%load_ext autoreload"
   ]
  },
  {
   "cell_type": "code",
   "execution_count": 2,
   "id": "4377683d",
   "metadata": {},
   "outputs": [],
   "source": [
    "%autoreload 1"
   ]
  },
  {
   "cell_type": "code",
   "execution_count": 3,
   "id": "829c55d1",
   "metadata": {},
   "outputs": [],
   "source": [
    "import os\n",
    "import sys\n",
    "import time\n",
    "sys.path.extend(['..'])\n",
    "\n",
    "import numpy as np\n",
    "import matplotlib.pyplot as plt\n",
    "from scipy.special import softmax\n",
    "import torch\n",
    "\n",
    "%aimport models\n",
    "from models import AdaptiveTempScaling, TempScaling\n",
    "%aimport utils\n",
    "from utils import compare_results"
   ]
  },
  {
   "cell_type": "code",
   "execution_count": 4,
   "id": "7f43d6ef",
   "metadata": {},
   "outputs": [],
   "source": [
    "%matplotlib inline"
   ]
  },
  {
   "cell_type": "code",
   "execution_count": 5,
   "id": "d2d5000d",
   "metadata": {},
   "outputs": [],
   "source": [
    "plt.rc('text', usetex=True)\n",
    "plt.rc('text.latex', preamble=r'\\usepackage{amsmath} \\usepackage{amssymb}')"
   ]
  },
  {
   "cell_type": "markdown",
   "id": "75788072",
   "metadata": {},
   "source": [
    "## Load data and precomputed logits"
   ]
  },
  {
   "cell_type": "code",
   "execution_count": 6,
   "id": "937402b2",
   "metadata": {},
   "outputs": [],
   "source": [
    "CIFAR10_PATH = '../../data/CIFAR10'\n",
    "MODEL_PATH = '../../trained_models/CIFAR10/lenet5'"
   ]
  },
  {
   "cell_type": "code",
   "execution_count": 7,
   "id": "4340c265",
   "metadata": {},
   "outputs": [],
   "source": [
    "X_train = np.load(os.path.join(CIFAR10_PATH, 'train_imas.npy'))\n",
    "y_train = np.load(os.path.join(CIFAR10_PATH, 'train_labels.npy'))\n",
    "\n",
    "X_val = np.load(os.path.join(CIFAR10_PATH, 'val_imas.npy'))\n",
    "y_val = np.load(os.path.join(CIFAR10_PATH, 'val_labels.npy'))\n",
    "\n",
    "X_test = np.load(os.path.join(CIFAR10_PATH, 'test_imas.npy'))\n",
    "y_test = np.load(os.path.join(CIFAR10_PATH, 'test_labels.npy'))"
   ]
  },
  {
   "cell_type": "code",
   "execution_count": 8,
   "id": "fddb67d7",
   "metadata": {},
   "outputs": [],
   "source": [
    "Z_train = np.load(os.path.join(MODEL_PATH, 'train_logits.npy'))\n",
    "Z_val = np.load(os.path.join(MODEL_PATH, 'val_logits.npy'))\n",
    "Z_test = np.load(os.path.join(MODEL_PATH, 'test_logits.npy'))"
   ]
  },
  {
   "cell_type": "markdown",
   "id": "54ef73b9",
   "metadata": {},
   "source": [
    "### Calibrate models"
   ]
  },
  {
   "cell_type": "code",
   "execution_count": 9,
   "id": "4ba4d313",
   "metadata": {},
   "outputs": [],
   "source": [
    "N, dim = Z_train.shape\n",
    "\n",
    "### Temp-Scal as baseline:\n",
    "tempScaler = TempScaling()\n",
    "tempScaler.fit(Z_val, y_val);"
   ]
  },
  {
   "cell_type": "code",
   "execution_count": 10,
   "id": "0f51e06a",
   "metadata": {},
   "outputs": [
    {
     "name": "stdout",
     "output_type": "stream",
     "text": [
      "Finding optimum Temperature\n",
      "Adapting Weight vector.864e+00, Temp: 0.964, , at time: 0.30s\n",
      "\n",
      "\n",
      "On epoch: 29994, loss: 1.863e+00, at time: 134.62s\n",
      "\n"
     ]
    }
   ],
   "source": [
    "aTempScaler = AdaptiveTempScaling(dim)\n",
    "aTempScaler.fit(Z_val, y_val, v=True, lr=1e-6, epochs=30000);"
   ]
  },
  {
   "cell_type": "code",
   "execution_count": 11,
   "id": "63d2b039",
   "metadata": {},
   "outputs": [
    {
     "name": "stdout",
     "output_type": "stream",
     "text": [
      "##### Results on train set:\n",
      "  Calibrator      Accuracy           ECE   Brier Score           NLL\n",
      "       Uncal          0.00         11.09     8.794e-01     5.122e+05\n",
      "    TempScal          0.00         11.12     8.788e-01     5.121e+05\n",
      "AdaptiveTempScal          0.00         11.11     8.790e-01     5.121e+05\n"
     ]
    }
   ],
   "source": [
    "print('##### Results on train set:')\n",
    "compare_results(predictions={'Uncal': softmax(Z_train, axis=1),\n",
    "                             'TempScal': tempScaler.predictive(Z_train),\n",
    "                             'AdaptiveTempScal': aTempScaler.predictive(Z_train)}, target=y_train);"
   ]
  },
  {
   "cell_type": "code",
   "execution_count": 12,
   "id": "923ee15e",
   "metadata": {},
   "outputs": [
    {
     "name": "stdout",
     "output_type": "stream",
     "text": [
      "##### Results on validation set:\n",
      "  Calibrator      Accuracy           ECE   Brier Score           NLL\n",
      "       Uncal          0.00         19.83     7.991e-01     1.116e+05\n",
      "    TempScal          0.00         11.11     8.791e-01     1.142e+05\n",
      "AdaptiveTempScal          0.00         11.10     8.792e-01     1.142e+05\n"
     ]
    }
   ],
   "source": [
    "print('##### Results on validation set:')\n",
    "compare_results(predictions={'Uncal': Z_val,\n",
    "                             'TempScal': tempScaler.predictive(Z_val),\n",
    "                             'AdaptiveTempScal': aTempScaler.predictive(Z_val)}, target=y_val, M=20);"
   ]
  },
  {
   "cell_type": "code",
   "execution_count": null,
   "id": "3c31202f",
   "metadata": {},
   "outputs": [],
   "source": []
  }
 ],
 "metadata": {
  "kernelspec": {
   "display_name": "Python 3",
   "language": "python",
   "name": "python3"
  },
  "language_info": {
   "codemirror_mode": {
    "name": "ipython",
    "version": 3
   },
   "file_extension": ".py",
   "mimetype": "text/x-python",
   "name": "python",
   "nbconvert_exporter": "python",
   "pygments_lexer": "ipython3",
   "version": "3.8.8"
  }
 },
 "nbformat": 4,
 "nbformat_minor": 5
}
