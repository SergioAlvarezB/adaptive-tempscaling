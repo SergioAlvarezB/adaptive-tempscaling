{
 "cells": [
  {
   "cell_type": "markdown",
   "id": "0d6b6fa7",
   "metadata": {},
   "source": [
    "# Analysis of AdaTempScal on ResNet50 for CIFAR10"
   ]
  },
  {
   "cell_type": "code",
   "execution_count": 1,
   "id": "c30f8e84",
   "metadata": {},
   "outputs": [],
   "source": [
    "%load_ext autoreload"
   ]
  },
  {
   "cell_type": "code",
   "execution_count": 2,
   "id": "02bc2664",
   "metadata": {},
   "outputs": [],
   "source": [
    "%autoreload 1"
   ]
  },
  {
   "cell_type": "code",
   "execution_count": 3,
   "id": "03bea357",
   "metadata": {},
   "outputs": [],
   "source": [
    "import os\n",
    "import sys\n",
    "import time\n",
    "sys.path.extend(['..'])\n",
    "\n",
    "import numpy as np\n",
    "import matplotlib.pyplot as plt\n",
    "from scipy.special import softmax\n",
    "import torch\n",
    "from torch.utils.data import DataLoader\n",
    "from torchvision import transforms\n",
    "\n",
    "from mixNmatch_cal import temperature_scaling, ts_calibrate\n",
    "from models import AdaTS, TempScaling, HlogbasedT, DNNbasedT, EnsembleTS, BTS, LinearT\n",
    "from scipy_models import LTS, HTS, HistTS\n",
    "from scipy_models import BTS as BTSv2\n",
    "%aimport utils\n",
    "from utils import compare_results, calib_split, get_CIFAR10_C, NumpyDataset, load_model, predict_logits, compute_metrics, onehot_encode\n",
    "%aimport adats_utils\n",
    "from adats_utils import fitAdaTS, fitCV_AdaTS, fitHistTS\n",
    "%aimport mixNmatch_cal\n",
    "from mixNmatch_cal import ets_calibrate, mir_calibrate"
   ]
  },
  {
   "cell_type": "code",
   "execution_count": 4,
   "id": "519f1dc7",
   "metadata": {},
   "outputs": [],
   "source": [
    "%matplotlib inline"
   ]
  },
  {
   "cell_type": "code",
   "execution_count": 5,
   "id": "54a656c2",
   "metadata": {},
   "outputs": [],
   "source": [
    "plt.rc('text', usetex=True)\n",
    "plt.rc('text.latex', preamble=r'\\usepackage{amsmath} \\usepackage{amssymb}')"
   ]
  },
  {
   "cell_type": "code",
   "execution_count": 6,
   "id": "0d773582",
   "metadata": {},
   "outputs": [],
   "source": [
    "dev = torch.device('cuda')"
   ]
  },
  {
   "cell_type": "markdown",
   "id": "570902ac",
   "metadata": {},
   "source": [
    "## Load data and precomputed logits"
   ]
  },
  {
   "cell_type": "code",
   "execution_count": 7,
   "id": "d59af083",
   "metadata": {},
   "outputs": [],
   "source": [
    "CIFAR10_PATH = '../../data/CIFAR10'\n",
    "CIFAR10C_PATH = '../../data/CIFAR-10-C'\n",
    "MODEL_PATH = '../../trained_models/CIFAR10/resnet50'"
   ]
  },
  {
   "cell_type": "code",
   "execution_count": 8,
   "id": "f615f5c8",
   "metadata": {},
   "outputs": [],
   "source": [
    "X_train = np.load(os.path.join(CIFAR10_PATH, 'train_imas.npy'))\n",
    "y_train = np.load(os.path.join(CIFAR10_PATH, 'train_labels.npy'))\n",
    "\n",
    "X_val = np.load(os.path.join(CIFAR10_PATH, 'val_imas.npy'))\n",
    "y_val = np.load(os.path.join(CIFAR10_PATH, 'val_labels.npy'))\n",
    "\n",
    "X_test = np.load(os.path.join(CIFAR10_PATH, 'test_imas.npy'))\n",
    "y_test = np.load(os.path.join(CIFAR10_PATH, 'test_labels.npy'))"
   ]
  },
  {
   "cell_type": "code",
   "execution_count": 9,
   "id": "66bfb25e",
   "metadata": {},
   "outputs": [],
   "source": [
    "Z_train = np.load(os.path.join(MODEL_PATH, 'train_logits.npy'))\n",
    "Z_val = np.load(os.path.join(MODEL_PATH, 'val_logits.npy'))\n",
    "Z_test = np.load(os.path.join(MODEL_PATH, 'test_logits.npy'))"
   ]
  },
  {
   "cell_type": "markdown",
   "id": "09db8e2f",
   "metadata": {},
   "source": [
    "### Calibrate models"
   ]
  },
  {
   "cell_type": "code",
   "execution_count": 10,
   "id": "185623d8",
   "metadata": {},
   "outputs": [
    {
     "name": "stdout",
     "output_type": "stream",
     "text": [
      "On epoch: 784, NLL: 2.172e+03, Temp: 2.575, at time: 1.41s\r"
     ]
    }
   ],
   "source": [
    "N, dim = Z_train.shape\n",
    "\n",
    "### Temp-Scal as baseline:\n",
    "tempScaler = TempScaling()\n",
    "tempScaler.fit(Z_val, y_val, v=True);"
   ]
  },
  {
   "cell_type": "code",
   "execution_count": 11,
   "id": "a59cf58f",
   "metadata": {},
   "outputs": [
    {
     "name": "stdout",
     "output_type": "stream",
     "text": [
      "Optimization terminated successfully.\n",
      "         Current function value: 0.430475\n",
      "         Iterations: 61\n",
      "         Function evaluations: 8522\n"
     ]
    }
   ],
   "source": [
    "hts = HTS(dim)\n",
    "hts.fit(Z_val, y_val, v=True)"
   ]
  },
  {
   "cell_type": "code",
   "execution_count": 15,
   "id": "0d13618d",
   "metadata": {},
   "outputs": [
    {
     "name": "stdout",
     "output_type": "stream",
     "text": [
      "On epoch: 1994, NLL: 2.153e+03, at time: 21.69s\r"
     ]
    }
   ],
   "source": [
    "lhaTempScaler = AdaTS(HlogbasedT(dim))\n",
    "lhaTempScaler = fitAdaTS(lhaTempScaler, Z_val, y_val, epochs=2000, batch_size=1000, lr=1e-2, v=True)"
   ]
  },
  {
   "cell_type": "code",
   "execution_count": 16,
   "id": "c3ffab26",
   "metadata": {},
   "outputs": [
    {
     "name": "stdout",
     "output_type": "stream",
     "text": [
      "Optimization terminated successfully    (Exit mode 0)\n",
      "            Current function value: 0.4277655822823248\n",
      "            Iterations: 19\n",
      "            Function evaluations: 275\n",
      "            Gradient evaluations: 20\n"
     ]
    }
   ],
   "source": [
    "lts = LTS(dim)\n",
    "lts.fit(Z_val, y_val, v=True)"
   ]
  },
  {
   "cell_type": "code",
   "execution_count": 17,
   "id": "00902736",
   "metadata": {},
   "outputs": [
    {
     "name": "stdout",
     "output_type": "stream",
     "text": [
      "On epoch: 4994, NLL: 2.140e+03, at time: 49.84s\r"
     ]
    }
   ],
   "source": [
    "ltsv1 = AdaTS(LinearT(dim))\n",
    "ltsv1 = fitAdaTS(ltsv1, Z_val, y_val, epochs=5000, batch_size=1000, lr=1e-2, v=True)"
   ]
  },
  {
   "cell_type": "code",
   "execution_count": 18,
   "id": "cbdd9b5c",
   "metadata": {},
   "outputs": [
    {
     "name": "stdout",
     "output_type": "stream",
     "text": [
      "Fitted bin 49, with T: 2.40\r"
     ]
    }
   ],
   "source": [
    "bts = BTS()\n",
    "bts.fit(Z_val, y_val)"
   ]
  },
  {
   "cell_type": "code",
   "execution_count": 19,
   "id": "1b2048e0",
   "metadata": {},
   "outputs": [
    {
     "name": "stdout",
     "output_type": "stream",
     "text": [
      "Fitted bin 49, with T: 2.40\r"
     ]
    }
   ],
   "source": [
    "btsv2 = BTSv2()\n",
    "btsv2.fit(Z_val, y_val)"
   ]
  },
  {
   "cell_type": "code",
   "execution_count": 20,
   "id": "236f6364",
   "metadata": {},
   "outputs": [
    {
     "name": "stdout",
     "output_type": "stream",
     "text": [
      "##### Results on train set:\n",
      "Calibrator      Accuracy           ECE           MCE   Brier Score           NLL\n",
      "Uncal             99.94%         0.12%        47.21%    1.104e-03     2.701e-03\n",
      "TempScal          99.94%         5.36%        71.37%    8.604e-03     5.811e-02\n",
      "TSv2              99.94%         5.36%        71.37%    8.604e-03     5.812e-02\n",
      "BTS               99.94%         4.75%        72.62%    1.003e-02     5.309e-02\n",
      "BTSv2             99.94%         4.75%        72.62%    1.003e-02     5.309e-02\n",
      "ETS               99.94%         7.37%        72.93%    1.287e-02     8.031e-02\n",
      "MIR               99.94%         5.26%        61.76%    1.229e-02     5.933e-02\n",
      "HTSv1             99.94%         4.65%        74.28%    9.332e-03     5.151e-02\n",
      "HTSv2             99.94%         4.79%        74.31%    9.582e-03     5.312e-02\n",
      "LTSv1             99.94%         5.39%        72.05%    9.710e-03     5.911e-02\n",
      "LTSv2             99.94%         5.32%        72.07%    9.457e-03     5.824e-02\n"
     ]
    }
   ],
   "source": [
    "print('##### Results on train set:')\n",
    "compare_results(predictions={'Uncal': softmax(Z_train, axis=1),\n",
    "                             'TempScal': tempScaler.predictive(Z_train),\n",
    "                             'TSv2': ts_calibrate(Z_val, onehot_encode(y_val), Z_train,'ce'),\n",
    "                             'BTS': bts.predictive(Z_train),\n",
    "                             'BTSv2': btsv2.predictive(Z_train),\n",
    "                             'ETS': ets_calibrate(Z_val, onehot_encode(y_val), Z_train, dim),\n",
    "                             'MIR': mir_calibrate(Z_val, onehot_encode(y_val), Z_train),\n",
    "                             'HTSv1': lhaTempScaler.predictive(Z_train),\n",
    "                             'HTSv2': hts.predictive(Z_train),\n",
    "                             'LTSv1': ltsv1.predictive(Z_train),\n",
    "                             'LTSv2': lts.predictive(Z_train)}, target=y_train, M=50, from_logits=False);"
   ]
  },
  {
   "cell_type": "code",
   "execution_count": 13,
   "id": "82042d26",
   "metadata": {},
   "outputs": [
    {
     "name": "stdout",
     "output_type": "stream",
     "text": [
      "On epoch: 29994, NLL: 2.137e+03, at time: 285.38s\r"
     ]
    }
   ],
   "source": [
    "dnnaTempScaler = AdaTS(DNNbasedT(dim))\n",
    "dnnaTempScaler = fitAdaTS(dnnaTempScaler, Z_val, y_val, epochs=30000, batch_size=1000, lr=1e-4, v=True, weight_decay=1e-2, dev=dev)"
   ]
  },
  {
   "cell_type": "code",
   "execution_count": 14,
   "id": "8df080a0",
   "metadata": {},
   "outputs": [
    {
     "name": "stdout",
     "output_type": "stream",
     "text": [
      "On epoch: 29994, NLL: 2.132e+03, at time: 381.96s\r"
     ]
    }
   ],
   "source": [
    "PTS = AdaTS(DNNbasedT(dim, hs=[5, 5]))\n",
    "PTS = fitAdaTS(PTS, Z_val, y_val, epochs=30000, batch_size=1000, lr=1e-4, v=True, weight_decay=1e-2, dev=dev)"
   ]
  },
  {
   "cell_type": "code",
   "execution_count": 22,
   "id": "49e5b985",
   "metadata": {},
   "outputs": [
    {
     "data": {
      "text/plain": [
       "Parameter containing:\n",
       "tensor([-0.0598, -0.0664, -0.0604, -0.0543, -0.0616, -0.0581, -0.0614, -0.0674,\n",
       "        -0.0640, -0.0619], requires_grad=True)"
      ]
     },
     "execution_count": 22,
     "metadata": {},
     "output_type": "execute_result"
    }
   ],
   "source": [
    "ltsv1.modelT.W"
   ]
  },
  {
   "cell_type": "code",
   "execution_count": 25,
   "id": "ac965f42",
   "metadata": {},
   "outputs": [
    {
     "data": {
      "text/plain": [
       "Parameter containing:\n",
       "tensor([2.3961], requires_grad=True)"
      ]
     },
     "execution_count": 25,
     "metadata": {},
     "output_type": "execute_result"
    }
   ],
   "source": [
    "ltsv1.modelT.b"
   ]
  },
  {
   "cell_type": "code",
   "execution_count": 23,
   "id": "54a6a9f2",
   "metadata": {},
   "outputs": [
    {
     "data": {
      "text/plain": [
       "array([0.07371709, 0.06599867, 0.07322392, 0.08031157, 0.07159408,\n",
       "       0.07577015, 0.07197265, 0.06493879, 0.06883441, 0.07114675])"
      ]
     },
     "execution_count": 23,
     "metadata": {},
     "output_type": "execute_result"
    }
   ],
   "source": [
    "lts.w"
   ]
  },
  {
   "cell_type": "code",
   "execution_count": 24,
   "id": "33e23ca4",
   "metadata": {},
   "outputs": [
    {
     "data": {
      "text/plain": [
       "2.399604684335165"
      ]
     },
     "execution_count": 24,
     "metadata": {},
     "output_type": "execute_result"
    }
   ],
   "source": [
    "lts.b"
   ]
  },
  {
   "cell_type": "code",
   "execution_count": 16,
   "id": "7253aedb",
   "metadata": {},
   "outputs": [],
   "source": [
    "hisTS = HistTS()\n",
    "hisTS.fit(Z_val, y_val)"
   ]
  },
  {
   "cell_type": "code",
   "execution_count": 17,
   "id": "cb2e327a",
   "metadata": {},
   "outputs": [
    {
     "name": "stdout",
     "output_type": "stream",
     "text": [
      "Fitted bin 49, with T: 2.40\r"
     ]
    }
   ],
   "source": []
  },
  {
   "cell_type": "code",
   "execution_count": 18,
   "id": "e6644cba",
   "metadata": {},
   "outputs": [
    {
     "name": "stdout",
     "output_type": "stream",
     "text": [
      "##### Results on train set:\n",
      "     Calibrator      Accuracy           ECE           MCE   Brier Score           NLL\n",
      "Uncal                   99.94%         0.12%        47.21%    1.104e-03     2.701e-03\n",
      "TempScal                99.94%         5.36%        71.37%    8.604e-03     5.811e-02\n",
      "BTS                     99.94%         4.75%        72.62%    1.003e-02     5.309e-02\n",
      "ETS                     99.94%         7.37%        72.93%    1.287e-02     8.031e-02\n",
      "MIR                     99.94%         5.26%        61.76%    1.229e-02     5.933e-02\n",
      "logH-TempScal           99.94%         4.81%        74.31%    9.606e-03     5.328e-02\n",
      "DNN-TempScal            99.94%         4.88%        71.93%    8.929e-03     5.358e-02\n",
      "LTSv1                   99.94%         5.31%        72.04%    9.422e-03     5.812e-02\n",
      "LTSv2                   99.94%         5.32%        72.07%    9.457e-03     5.824e-02\n",
      "PTS                     99.94%         5.14%        71.95%    9.517e-03     5.648e-02\n",
      "HistH-TempScal          99.94%         4.82%        72.89%    1.043e-02     5.380e-02\n"
     ]
    }
   ],
   "source": [
    "print('##### Results on train set:')\n",
    "compare_results(predictions={'Uncal': softmax(Z_train, axis=1),\n",
    "                             'TempScal': tempScaler.predictive(Z_train),\n",
    "                             'BTS': bts.predictive(Z_train),\n",
    "                             'ETS': ets_calibrate(Z_val, onehot_encode(y_val), Z_train, dim),\n",
    "                             'MIR': mir_calibrate(Z_val, onehot_encode(y_val), Z_train),\n",
    "                             'HTSv1': lhaTempScaler.predictive(Z_train),\n",
    "                             'HTSv2': hts.predictive(Z_train),\n",
    "                             'DNN-TempScal': dnnaTempScaler.predictive(Z_train),\n",
    "                             'LTSv1': ltsv1.predictive(Z_train),\n",
    "                             'LTSv2': lts.predictive(Z_train),\n",
    "                             'PTS': PTS.predictive(Z_train),\n",
    "                             'HistH-TempScal': hisTS.predictive(Z_train)}, target=y_train, M=50, from_logits=False);"
   ]
  },
  {
   "cell_type": "code",
   "execution_count": 19,
   "id": "f550100d",
   "metadata": {},
   "outputs": [
    {
     "name": "stdout",
     "output_type": "stream",
     "text": [
      "##### Results on validation set:\n",
      "     Calibrator      Accuracy           ECE           MCE   Brier Score           NLL\n",
      "Uncal                   86.72%        10.31%        73.80%    2.300e-01     7.737e-01\n",
      "TempScal                86.72%         3.06%        79.67%    1.967e-01     4.343e-01\n",
      "BTS                     86.72%         2.20%        80.17%    1.938e-01     4.275e-01\n",
      "ETS                     86.72%         3.40%        80.22%    1.958e-01     4.382e-01\n",
      "MIR                     86.80%         0.11%        18.82%    1.948e-01     4.205e-01\n",
      "logH-TempScal           86.72%         2.10%        80.79%    1.953e-01     4.305e-01\n",
      "DNN-TempScal            86.72%         2.77%        78.23%    1.949e-01     4.275e-01\n",
      "LTSv1                   86.72%         2.85%        78.86%    1.947e-01     4.278e-01\n",
      "LTSv2                   86.72%         2.82%        78.86%    1.947e-01     4.278e-01\n",
      "PTS                     86.72%         3.02%        78.41%    1.946e-01     4.264e-01\n",
      "HistH-TempScal          86.72%         2.06%        49.76%    1.949e-01     4.290e-01\n"
     ]
    }
   ],
   "source": [
    "print('##### Results on validation set:')\n",
    "compare_results(predictions={'Uncal': softmax(Z_val, axis=1),\n",
    "                             'TempScal': tempScaler.predictive(Z_val),\n",
    "                             'BTS': bts.predictive(Z_val),\n",
    "                             'ETS': ets_calibrate(Z_val, onehot_encode(y_val), Z_val, dim),\n",
    "                             'MIR': mir_calibrate(Z_val, onehot_encode(y_val), Z_val),\n",
    "                             'logH-TempScal': lhaTempScaler.predictive(Z_val),\n",
    "                             'DNN-TempScal': dnnaTempScaler.predictive(Z_val),\n",
    "                             'LTSv1': ltsv1.predictive(Z_val),\n",
    "                             'LTSv2': lts.predictive(Z_val),\n",
    "                             'PTS': PTS.predictive(Z_val),\n",
    "                             'HistH-TempScal': hisTS.predictive(Z_val)}, target=y_val, M=50, from_logits=False);"
   ]
  },
  {
   "cell_type": "code",
   "execution_count": 20,
   "id": "205fc4d4",
   "metadata": {},
   "outputs": [
    {
     "name": "stdout",
     "output_type": "stream",
     "text": [
      "##### Results on test set:\n",
      "     Calibrator      Accuracy           ECE           MCE   Brier Score           NLL\n",
      "Uncal                   86.13%        10.71%        49.03%    2.392e-01     7.897e-01\n",
      "TempScal                86.13%         2.54%        51.53%    2.037e-01     4.473e-01\n",
      "BTS                     86.13%         1.86%        60.38%    2.036e-01     4.498e-01\n",
      "ETS                     86.13%         2.84%        43.68%    2.029e-01     4.515e-01\n",
      "MIR                     86.15%         1.04%        51.24%    2.040e-01     4.414e-01\n",
      "logH-TempScal           86.13%         1.38%        45.17%    2.024e-01     4.448e-01\n",
      "DNN-TempScal            86.13%         2.47%        42.66%    2.022e-01     4.402e-01\n",
      "LTSv1                   86.13%         2.38%        43.19%    2.019e-01     4.399e-01\n",
      "LTSv2                   86.13%         2.40%        43.20%    2.019e-01     4.399e-01\n",
      "PTS                     86.13%         2.51%        23.16%    2.025e-01     4.416e-01\n",
      "HistH-TempScal          86.13%         1.44%        57.19%    2.022e-01     4.451e-01\n"
     ]
    }
   ],
   "source": [
    "print('##### Results on test set:')\n",
    "compare_results(predictions={'Uncal': softmax(Z_test, axis=1),\n",
    "                             'TempScal': tempScaler.predictive(Z_test),\n",
    "                             'BTS': bts.predictive(Z_test),\n",
    "                             'ETS': ets_calibrate(Z_val, onehot_encode(y_val), Z_test, dim),\n",
    "                             'MIR': mir_calibrate(Z_val, onehot_encode(y_val), Z_test),\n",
    "                             'logH-TempScal': lhaTempScaler.predictive(Z_test),\n",
    "                             'DNN-TempScal': dnnaTempScaler.predictive(Z_test),\n",
    "                             'LTSv1': ltsv1.predictive(Z_test),\n",
    "                             'LTSv2': lts.predictive(Z_test),\n",
    "                             'PTS': PTS.predictive(Z_test),\n",
    "                             'HistH-TempScal': hisTS.predictive(Z_test)}, target=y_test, M=50, from_logits=False);"
   ]
  },
  {
   "cell_type": "markdown",
   "id": "4b02dace",
   "metadata": {},
   "source": [
    "### Temperature distribution"
   ]
  },
  {
   "cell_type": "code",
   "execution_count": 1,
   "id": "77668672",
   "metadata": {},
   "outputs": [
    {
     "ename": "NameError",
     "evalue": "name 'plt' is not defined",
     "output_type": "error",
     "traceback": [
      "\u001b[0;31m------------------------------------------------------------\u001b[0m",
      "\u001b[0;31mNameError\u001b[0m                  Traceback (most recent call last)",
      "\u001b[0;32m<ipython-input-1-54bfb3641487>\u001b[0m in \u001b[0;36m<module>\u001b[0;34m\u001b[0m\n\u001b[0;32m----> 1\u001b[0;31m \u001b[0mfig\u001b[0m\u001b[0;34m,\u001b[0m \u001b[0max\u001b[0m \u001b[0;34m=\u001b[0m \u001b[0mplt\u001b[0m\u001b[0;34m.\u001b[0m\u001b[0msubplots\u001b[0m\u001b[0;34m(\u001b[0m\u001b[0;36m3\u001b[0m\u001b[0;34m,\u001b[0m \u001b[0;36m3\u001b[0m\u001b[0;34m,\u001b[0m \u001b[0mfigsize\u001b[0m\u001b[0;34m=\u001b[0m\u001b[0;34m(\u001b[0m\u001b[0;36m25\u001b[0m\u001b[0;34m,\u001b[0m \u001b[0;36m25\u001b[0m\u001b[0;34m)\u001b[0m\u001b[0;34m)\u001b[0m\u001b[0;34m\u001b[0m\u001b[0;34m\u001b[0m\u001b[0m\n\u001b[0m\u001b[1;32m      2\u001b[0m \u001b[0;34m\u001b[0m\u001b[0m\n\u001b[1;32m      3\u001b[0m \u001b[0mTs\u001b[0m \u001b[0;34m=\u001b[0m \u001b[0mlhaTempScaler\u001b[0m\u001b[0;34m.\u001b[0m\u001b[0mget_T\u001b[0m\u001b[0;34m(\u001b[0m\u001b[0mZ_train\u001b[0m\u001b[0;34m)\u001b[0m\u001b[0;34m\u001b[0m\u001b[0;34m\u001b[0m\u001b[0m\n\u001b[1;32m      4\u001b[0m \u001b[0max\u001b[0m\u001b[0;34m[\u001b[0m\u001b[0;36m0\u001b[0m\u001b[0;34m,\u001b[0m \u001b[0;36m0\u001b[0m\u001b[0;34m]\u001b[0m\u001b[0;34m.\u001b[0m\u001b[0mhist\u001b[0m\u001b[0;34m(\u001b[0m\u001b[0mTs\u001b[0m\u001b[0;34m,\u001b[0m \u001b[0mbins\u001b[0m\u001b[0;34m=\u001b[0m\u001b[0;36m50\u001b[0m\u001b[0;34m)\u001b[0m\u001b[0;34m\u001b[0m\u001b[0;34m\u001b[0m\u001b[0m\n\u001b[1;32m      5\u001b[0m \u001b[0max\u001b[0m\u001b[0;34m[\u001b[0m\u001b[0;36m0\u001b[0m\u001b[0;34m,\u001b[0m \u001b[0;36m0\u001b[0m\u001b[0;34m]\u001b[0m\u001b[0;34m.\u001b[0m\u001b[0mset_xlabel\u001b[0m\u001b[0;34m(\u001b[0m\u001b[0;34m'T'\u001b[0m\u001b[0;34m,\u001b[0m \u001b[0mfontsize\u001b[0m\u001b[0;34m=\u001b[0m\u001b[0;36m22\u001b[0m\u001b[0;34m)\u001b[0m\u001b[0;34m\u001b[0m\u001b[0;34m\u001b[0m\u001b[0m\n",
      "\u001b[0;31mNameError\u001b[0m: name 'plt' is not defined"
     ]
    }
   ],
   "source": [
    "fig, ax = plt.subplots(3, 3, figsize=(25, 25))\n",
    "\n",
    "Ts = lhaTempScaler.get_T(Z_train)\n",
    "ax[0, 0].hist(Ts, bins=50)\n",
    "ax[0, 0].set_xlabel('T', fontsize=22)\n",
    "ax[0, 0].set_ylabel('Count', fontsize=22)\n",
    "ax[0, 0].set_title('Train set', fontsize=26)\n",
    "\n",
    "Ts = lhaTempScaler.get_T(Z_val)\n",
    "ax[0, 1].hist(Ts, bins=50)\n",
    "ax[0, 1].set_xlabel('T', fontsize=22)\n",
    "ax[0, 1].set_ylabel('Count', fontsize=22)\n",
    "ax[0, 1].set_title('Validation set', fontsize=26)\n",
    "\n",
    "Ts = lhaTempScaler.get_T(Z_test)\n",
    "ax[0, 2].hist(Ts, bins=50)\n",
    "ax[0, 2].set_xlabel('T', fontsize=22)\n",
    "ax[0, 2].set_ylabel('Count', fontsize=22)\n",
    "ax[0, 2].set_title('Test set', fontsize=26)\n",
    "\n",
    "\n",
    "\n",
    "Ts = dnnaTempScaler.get_T(Z_train)\n",
    "ax[1, 0].hist(Ts, bins=50)\n",
    "ax[1, 0].set_xlabel('T', fontsize=22)\n",
    "ax[1, 0].set_ylabel('Count', fontsize=22)\n",
    "ax[1, 0].set_title('Train set', fontsize=26)\n",
    "\n",
    "Ts = dnnaTempScaler.get_T(Z_val)\n",
    "ax[1, 1].hist(Ts, bins=50)\n",
    "ax[1, 1].set_xlabel('T', fontsize=22)\n",
    "ax[1, 1].set_ylabel('Count', fontsize=22)\n",
    "ax[1, 1].set_title('Validation set', fontsize=26)\n",
    "\n",
    "Ts = dnnaTempScaler.get_T(Z_test)\n",
    "ax[1, 2].hist(Ts, bins=50)\n",
    "ax[1, 2].set_xlabel('T', fontsize=22)\n",
    "ax[1, 2].set_ylabel('Count', fontsize=22)\n",
    "ax[1, 2].set_title('Test set', fontsize=26)\n",
    "\n",
    "\n",
    "\n",
    "Ts = bdnnaTempScaler.get_T(Z_train)\n",
    "ax[2, 0].hist(Ts, bins=50)\n",
    "ax[2, 0].set_xlabel('T', fontsize=22)\n",
    "ax[2, 0].set_ylabel('Count', fontsize=22)\n",
    "ax[2, 0].set_title('Train set', fontsize=26)\n",
    "\n",
    "Ts = bdnnaTempScaler.get_T(Z_val)\n",
    "ax[2, 1].hist(Ts, bins=50)\n",
    "ax[2, 1].set_xlabel('T', fontsize=22)\n",
    "ax[2, 1].set_ylabel('Count', fontsize=22)\n",
    "ax[2, 1].set_title('Validation set', fontsize=26)\n",
    "\n",
    "Ts = bdnnaTempScaler.get_T(Z_test)\n",
    "ax[2, 2].hist(Ts, bins=50)\n",
    "ax[2, 2].set_xlabel('T', fontsize=22)\n",
    "ax[2, 2].set_ylabel('Count', fontsize=22)\n",
    "ax[2, 2].set_title('Test set', fontsize=26)\n",
    "\n",
    "for _ax in ax.flatten():\n",
    "    _ax.tick_params(axis='both', labelsize=18)\n",
    "    \n",
    "\n",
    "plt.show()"
   ]
  },
  {
   "cell_type": "markdown",
   "id": "735b6646",
   "metadata": {},
   "source": [
    "### Selected temperature for different confidences in test set"
   ]
  },
  {
   "cell_type": "code",
   "execution_count": null,
   "id": "072b4fcd",
   "metadata": {},
   "outputs": [],
   "source": [
    "hc, lc, hi, li = calib_split(Z_test, y_test)\n",
    "\n",
    "ts_aux = TempScaling()\n",
    "ts_aux.fit(Z_test[hc | hi], y_test[hc | hi]);\n",
    "T_hc = ts_aux.T.detach().numpy()\n",
    "\n",
    "ts_aux = TempScaling()\n",
    "ts_aux.fit(Z_test[lc | li], y_test[lc | li]);\n",
    "T_lc = ts_aux.T.detach().numpy()\n"
   ]
  },
  {
   "cell_type": "code",
   "execution_count": null,
   "id": "8d3764ec",
   "metadata": {
    "scrolled": false
   },
   "outputs": [],
   "source": [
    "TslH = lhaTempScaler.get_T(Z_test)\n",
    "TsDNN = dnnaTempScaler.get_T(Z_test)\n",
    "TsBDNN = bdnnaTempScaler.get_T(Z_test)\n",
    "\n",
    "fig, ax = plt.subplots(3, 2, sharex=True, sharey=True, figsize=(23, 25))\n",
    "\n",
    "\n",
    "ax[0, 0].hist(TslH[hc | hi])\n",
    "ax[0, 0].axvline(T_hc, ls='--', lw=2, c='red', label='Optimum Temperature $T = {:.3f}$'.format(T_hc[0]))\n",
    "ax[0, 0].set_title('High Confidence samples.\\n $\\mathbb{{E}}[T] = {:.3f}$'.format(np.mean(TslH[hc | hi])), fontsize=26)\n",
    "ax[0, 0].legend(fontsize=18)\n",
    "\n",
    "ax[0, 1].hist(TslH[lc | li])\n",
    "ax[0, 1].axvline(T_lc, ls='--', lw=2, c='red', label='Optimum Temperature $T = {:.3f}$'.format(T_lc[0]))\n",
    "ax[0, 1].set_title('Low Confidence samples.\\n $\\mathbb{{E}}[T] = {:.3f}$'.format(np.mean(TslH[lc | li])), fontsize=26)\n",
    "ax[0, 1].legend(fontsize=18)\n",
    "\n",
    "\n",
    "\n",
    "ax[1, 0].hist(TsDNN[hc | hi])\n",
    "ax[1, 0].axvline(T_hc, ls='--', lw=2, c='red', label='Optimum Temperature $T = {:.3f}$'.format(T_hc[0]))\n",
    "ax[1, 0].set_title('High Confidence samples.\\n $\\mathbb{{E}}[T] = {:.3f}$'.format(np.mean(TsDNN[hc | hi])), fontsize=26)\n",
    "ax[1, 0].legend(fontsize=18)\n",
    "\n",
    "ax[1, 1].hist(TsDNN[lc | li])\n",
    "ax[1, 1].axvline(T_lc, ls='--', lw=2, c='red', label='Optimum Temperature $T = {:.3f}$'.format(T_lc[0]))\n",
    "ax[1, 1].set_title('Low Confidence samples.\\n $\\mathbb{{E}}[T] = {:.3f}$'.format(np.mean(TsDNN[lc | li])), fontsize=26)\n",
    "ax[1, 1].legend(fontsize=18)\n",
    "\n",
    "\n",
    "\n",
    "ax[2, 0].hist(TsBDNN[hc | hi])\n",
    "ax[2, 0].axvline(T_hc, ls='--', lw=2, c='red', label='Optimum Temperature $T = {:.3f}$'.format(T_hc[0]))\n",
    "ax[2, 0].set_title('High Confidence samples.\\n $\\mathbb{{E}}[T] = {:.3f}$'.format(np.mean(TsBDNN[hc | hi])), fontsize=26)\n",
    "ax[2, 0].legend(fontsize=18)\n",
    "\n",
    "ax[2, 1].hist(TsBDNN[lc | li])\n",
    "ax[2, 1].axvline(T_lc, ls='--', lw=2, c='red', label='Optimum Temperature $T = {:.3f}$'.format(T_lc[0]))\n",
    "ax[2, 1].set_title('Low Confidence samples.\\n $\\mathbb{{E}}[T] = {:.3f}$'.format(np.mean(TsBDNN[lc | li])), fontsize=26)\n",
    "ax[2, 1].legend(fontsize=18)\n",
    "\n",
    "for _ax in ax.flatten():\n",
    "    _ax.yaxis.set_tick_params(labelleft=True)\n",
    "    _ax.xaxis.set_tick_params(labelbottom=True)\n",
    "    _ax.set_xlabel('T', fontsize=22)\n",
    "    _ax.set_ylabel('Count', fontsize=22)\n",
    "    _ax.tick_params(axis='both', labelsize=18)\n",
    "    \n",
    "plt.tight_layout()\n",
    "plt.show();"
   ]
  },
  {
   "cell_type": "markdown",
   "id": "b50fb5d2",
   "metadata": {},
   "source": [
    "### According to quantiles"
   ]
  },
  {
   "cell_type": "code",
   "execution_count": null,
   "id": "66c306b2",
   "metadata": {},
   "outputs": [],
   "source": [
    "test_probs = softmax(Z_test, axis=1)\n",
    "test_confs = np.max(test_probs, axis=1)"
   ]
  },
  {
   "cell_type": "code",
   "execution_count": null,
   "id": "5739251c",
   "metadata": {},
   "outputs": [],
   "source": [
    "fig, ax = plt.subplots(figsize=(25, 8))\n",
    "\n",
    "ax.hist(test_confs, bins=200)\n",
    "\n",
    "ax.set_xlabel('Confidence', fontsize=22)\n",
    "ax.set_ylabel('Count', fontsize=22)\n",
    "ax.tick_params(axis='both', labelsize=18)\n",
    "\n",
    "plt.show();"
   ]
  },
  {
   "cell_type": "code",
   "execution_count": null,
   "id": "0edc14f3",
   "metadata": {},
   "outputs": [],
   "source": [
    "ix = np.argsort(test_confs)\n",
    "\n",
    "q1, q2, q3, q4 = ix[:len(test_confs)//4], ix[len(test_confs)//4:len(test_confs)//2], ix[len(test_confs)//2: 3*len(test_confs)//4], ix[3*len(test_confs)//4:]\n",
    "\n",
    "\n",
    "ts_aux = TempScaling()\n",
    "ts_aux.fit(Z_test[q1], y_test[q1]);\n",
    "T_q1 = ts_aux.T.detach().numpy()\n",
    "\n",
    "ts_aux = TempScaling()\n",
    "ts_aux.fit(Z_test[q2], y_test[q2]);\n",
    "T_q2 = ts_aux.T.detach().numpy()\n",
    "\n",
    "ts_aux = TempScaling()\n",
    "ts_aux.fit(Z_test[q3], y_test[q3]);\n",
    "T_q3 = ts_aux.T.detach().numpy()\n",
    "\n",
    "ts_aux = TempScaling()\n",
    "ts_aux.fit(Z_test[q4], y_test[q4]);\n",
    "T_q4 = ts_aux.T.detach().numpy()\n",
    "\n",
    "\n",
    "\n",
    "TslH = lhaTempScaler.get_T(Z_test)\n",
    "TsDNN = dnnaTempScaler.get_T(Z_test)\n",
    "TsBDNN = bdnnaTempScaler.get_T(Z_test)"
   ]
  },
  {
   "cell_type": "code",
   "execution_count": null,
   "id": "592e456f",
   "metadata": {},
   "outputs": [],
   "source": [
    "fig, ax = plt.subplots(3, 4, sharex=True, sharey=True, figsize=(30, 25))\n",
    "\n",
    "\n",
    "ax[0, 0].hist(TslH[q1])\n",
    "ax[0, 0].axvline(T_q1, ls='--', lw=2, c='red', label='Optimum Temperature $T = {:.3f}$'.format(T_q1[0]))\n",
    "ax[0, 0].set_title('Samples in Q1.\\n $\\mathbb{{E}}[T] = {:.3f}$'.format(np.mean(TslH[q1])), fontsize=26)\n",
    "\n",
    "ax[0, 1].hist(TslH[q2])\n",
    "ax[0, 1].axvline(T_q2, ls='--', lw=2, c='red', label='Optimum Temperature $T = {:.3f}$'.format(T_q2[0]))\n",
    "ax[0, 1].set_title('Samples in Q2.\\n $\\mathbb{{E}}[T] = {:.3f}$'.format(np.mean(TslH[q2])), fontsize=26)\n",
    "\n",
    "ax[0, 2].hist(TslH[q3])\n",
    "ax[0, 2].axvline(T_q3, ls='--', lw=2, c='red', label='Optimum Temperature $T = {:.3f}$'.format(T_q3[0]))\n",
    "ax[0, 2].set_title('Samples in Q3.\\n $\\mathbb{{E}}[T] = {:.3f}$'.format(np.mean(TslH[q3])), fontsize=26)\n",
    "\n",
    "ax[0, 3].hist(TslH[q4])\n",
    "ax[0, 3].axvline(T_q4, ls='--', lw=2, c='red', label='Optimum Temperature $T = {:.3f}$'.format(T_q4[0]))\n",
    "ax[0, 3].set_title('Samples in Q4.\\n $\\mathbb{{E}}[T] = {:.3f}$'.format(np.mean(TslH[q4])), fontsize=26)\n",
    "\n",
    "\n",
    "\n",
    "ax[1, 0].hist(TsDNN[q1])\n",
    "ax[1, 0].axvline(T_q1, ls='--', lw=2, c='red', label='Optimum Temperature $T = {:.3f}$'.format(T_q1[0]))\n",
    "ax[1, 0].set_title('Samples in Q1.\\n $\\mathbb{{E}}[T] = {:.3f}$'.format(np.mean(TsDNN[q1])), fontsize=26)\n",
    "\n",
    "ax[1, 1].hist(TsDNN[q2])\n",
    "ax[1, 1].axvline(T_q2, ls='--', lw=2, c='red', label='Optimum Temperature $T = {:.3f}$'.format(T_q2[0]))\n",
    "ax[1, 1].set_title('Samples in Q2.\\n $\\mathbb{{E}}[T] = {:.3f}$'.format(np.mean(TsDNN[q2])), fontsize=26)\n",
    "\n",
    "ax[1, 2].hist(TsDNN[q3])\n",
    "ax[1, 2].axvline(T_q3, ls='--', lw=2, c='red', label='Optimum Temperature $T = {:.3f}$'.format(T_q3[0]))\n",
    "ax[1, 2].set_title('Samples in Q3.\\n $\\mathbb{{E}}[T] = {:.3f}$'.format(np.mean(TsDNN[q3])), fontsize=26)\n",
    "\n",
    "ax[1, 3].hist(TsDNN[q4])\n",
    "ax[1, 3].axvline(T_q4, ls='--', lw=2, c='red', label='Optimum Temperature $T = {:.3f}$'.format(T_q4[0]))\n",
    "ax[1, 3].set_title('Samples in Q4.\\n $\\mathbb{{E}}[T] = {:.3f}$'.format(np.mean(TsDNN[q4])), fontsize=26)\n",
    "\n",
    "\n",
    "\n",
    "ax[2, 0].hist(TsBDNN[q1])\n",
    "ax[2, 0].axvline(T_q1, ls='--', lw=2, c='red', label='Optimum Temperature $T = {:.3f}$'.format(T_q1[0]))\n",
    "ax[2, 0].set_title('Samples in Q1.\\n $\\mathbb{{E}}[T] = {:.3f}$'.format(np.mean(TsBDNN[q1])), fontsize=26)\n",
    "\n",
    "ax[2, 1].hist(TsBDNN[q2])\n",
    "ax[2, 1].axvline(T_q2, ls='--', lw=2, c='red', label='Optimum Temperature $T = {:.3f}$'.format(T_q2[0]))\n",
    "ax[2, 1].set_title('Samples in Q2.\\n $\\mathbb{{E}}[T] = {:.3f}$'.format(np.mean(TsBDNN[q2])), fontsize=26)\n",
    "\n",
    "ax[2, 2].hist(TsBDNN[q3])\n",
    "ax[2, 2].axvline(T_q3, ls='--', lw=2, c='red', label='Optimum Temperature $T = {:.3f}$'.format(T_q3[0]))\n",
    "ax[2, 2].set_title('Samples in Q3.\\n $\\mathbb{{E}}[T] = {:.3f}$'.format(np.mean(TsBDNN[q3])), fontsize=26)\n",
    "\n",
    "ax[2, 3].hist(TsBDNN[q4])\n",
    "ax[2, 3].axvline(T_q4, ls='--', lw=2, c='red', label='Optimum Temperature $T = {:.3f}$'.format(T_q4[0]))\n",
    "ax[2, 3].set_title('Samples in Q4.\\n $\\mathbb{{E}}[T] = {:.3f}$'.format(np.mean(TsBDNN[q4])), fontsize=26)\n",
    "\n",
    "\n",
    "\n",
    "for _ax in ax.flatten():\n",
    "    _ax.yaxis.set_tick_params(labelleft=True)\n",
    "    _ax.xaxis.set_tick_params(labelbottom=True)\n",
    "    _ax.legend(fontsize=18)\n",
    "    _ax.set_xlabel('T', fontsize=22)\n",
    "    _ax.set_ylabel('Count', fontsize=22)\n",
    "    _ax.tick_params(axis='both', labelsize=18)\n",
    "\n",
    "plt.show();"
   ]
  },
  {
   "cell_type": "markdown",
   "id": "e38ca8fd",
   "metadata": {},
   "source": [
    "## Corruption Robustness: CIFAR10-C"
   ]
  },
  {
   "cell_type": "code",
   "execution_count": null,
   "id": "b646dc97",
   "metadata": {},
   "outputs": [],
   "source": [
    "cifar10c = get_CIFAR10_C(CIFAR10C_PATH)\n",
    "\n",
    "categories = list(cifar10c.keys())\n",
    "categories.remove('labels')"
   ]
  },
  {
   "cell_type": "code",
   "execution_count": null,
   "id": "967588c0",
   "metadata": {},
   "outputs": [],
   "source": [
    "cifar10_transforms_test=transforms.Compose([\n",
    "    transforms.ToTensor(),\n",
    "    transforms.Normalize((0.4914, 0.4822, 0.4465), (0.2023, 0.1994, 0.2010)),\n",
    "])"
   ]
  },
  {
   "cell_type": "code",
   "execution_count": null,
   "id": "6c3a8f8d",
   "metadata": {},
   "outputs": [],
   "source": [
    "net = load_model('resnet50', 'cifar10', model_path='../../trained_models') "
   ]
  },
  {
   "cell_type": "markdown",
   "id": "28cffbd6",
   "metadata": {},
   "source": [
    "### Robustness without exposure to corrupted samples"
   ]
  },
  {
   "cell_type": "code",
   "execution_count": null,
   "id": "d1d360f1",
   "metadata": {},
   "outputs": [],
   "source": [
    "cifar10c_logits = {}\n",
    "\n",
    "for category in categories:\n",
    "    cifar10c_logits[category] = {}\n",
    "    print('Computing predictions for corruption: {}'.format(category))\n",
    "    for severity in range(1, 6):\n",
    "        test_data = NumpyDataset(cifar10c[category][severity], cifar10c['labels'][:10000], transform=cifar10_transforms_test)\n",
    "        test_dataloader = DataLoader(test_data, batch_size=256)\n",
    "        cifar10c_logits[category][severity] = predict_logits(net, test_dataloader, torch.device('cuda'))"
   ]
  },
  {
   "cell_type": "code",
   "execution_count": null,
   "id": "6bffaf6b",
   "metadata": {},
   "outputs": [],
   "source": [
    "cifar10c_metrics_uncal = {}\n",
    "cifar10c_metrics_tscal = {}\n",
    "cifar10c_metrics_lhtscal = {}\n",
    "cifar10c_metrics_dnntscal = {}\n",
    "cifar10c_metrics_bdnntscal = {}\n",
    "cifar10c_metrics_histtscal = {}\n",
    "\n",
    "for category in categories:\n",
    "    cifar10c_metrics_uncal[category] = {}\n",
    "    cifar10c_metrics_tscal[category] = {}\n",
    "    cifar10c_metrics_lhtscal[category] = {}\n",
    "    cifar10c_metrics_dnntscal[category] = {}\n",
    "    cifar10c_metrics_bdnntscal[category] = {}\n",
    "    cifar10c_metrics_histtscal[category] = {}\n",
    "    print('Computing metrics for corruption: {}'.format(category))\n",
    "    for severity in range(1, 6):\n",
    "        cifar10c_metrics_uncal[category][severity] = compute_metrics(cifar10c_logits[category][severity], cifar10c['labels'][:10000])\n",
    "        cifar10c_metrics_tscal[category][severity] = compute_metrics(tempScaler.predictive(cifar10c_logits[category][severity]), cifar10c['labels'][:10000], from_logits=False)\n",
    "        cifar10c_metrics_lhtscal[category][severity] = compute_metrics(lhaTempScaler.predictive(cifar10c_logits[category][severity]), cifar10c['labels'][:10000], from_logits=False)\n",
    "        cifar10c_metrics_dnntscal[category][severity] = compute_metrics(dnnaTempScaler.predictive(cifar10c_logits[category][severity]), cifar10c['labels'][:10000], from_logits=False)\n",
    "        cifar10c_metrics_bdnntscal[category][severity] = compute_metrics(bdnnaTempScaler.predictive(cifar10c_logits[category][severity]), cifar10c['labels'][:10000], from_logits=False)\n",
    "        cifar10c_metrics_histtscal[category][severity] = compute_metrics(hisTS.predictive(cifar10c_logits[category][severity]), cifar10c['labels'][:10000], from_logits=False)"
   ]
  },
  {
   "cell_type": "code",
   "execution_count": null,
   "id": "1c7e24eb",
   "metadata": {},
   "outputs": [],
   "source": [
    "mean_sev_uncal = np.zeros((5, 4))\n",
    "mean_sev_tscal = np.zeros((5, 4))\n",
    "mean_sev_lhtscal = np.zeros((5, 4))\n",
    "mean_sev_dnntscal = np.zeros((5, 4))\n",
    "mean_sev_bdnntscal = np.zeros((5, 4))\n",
    "mean_sev_histtscal = np.zeros((5, 4))\n",
    "\n",
    "\n",
    "for i in range(5):\n",
    "    for cat in categories:\n",
    "        mean_sev_uncal[i] += cifar10c_metrics_uncal[cat][i+1]\n",
    "        mean_sev_tscal[i] += cifar10c_metrics_tscal[cat][i+1]\n",
    "        mean_sev_lhtscal[i] += cifar10c_metrics_lhtscal[cat][i+1]\n",
    "        mean_sev_dnntscal[i] += cifar10c_metrics_dnntscal[cat][i+1]\n",
    "        mean_sev_bdnntscal[i] += cifar10c_metrics_bdnntscal[cat][i+1]\n",
    "        mean_sev_histtscal[i] += cifar10c_metrics_histtscal[cat][i+1]\n",
    "        \n",
    "mean_sev_uncal /= len(categories)\n",
    "mean_sev_tscal /= len(categories)\n",
    "mean_sev_lhtscal /= len(categories)\n",
    "mean_sev_dnntscal /= len(categories)\n",
    "mean_sev_bdnntscal /= len(categories)\n",
    "mean_sev_histtscal /= len(categories)"
   ]
  },
  {
   "cell_type": "code",
   "execution_count": null,
   "id": "f5a6bc4f",
   "metadata": {
    "scrolled": false
   },
   "outputs": [],
   "source": [
    "fig, ax = plt.subplots(3, 1, figsize=(28, 33))\n",
    "\n",
    "# ax[0].plot(mean_sev_uncal[:, 1], ls='--', marker='*', label='Uncalibrated')\n",
    "ax[0].plot(mean_sev_tscal[:, 1], ls='--', marker='*', label='Temp-Scaling')\n",
    "ax[0].plot(mean_sev_lhtscal[:, 1], ls='--', marker='*', label='$\\log H$ Temp-Scaling')\n",
    "ax[0].plot(mean_sev_dnntscal[:, 1], ls='--', marker='*', label='DNN Temp-Scaling')\n",
    "ax[0].plot(mean_sev_bdnntscal[:, 1], ls='--', marker='*', label='Big DNN Temp-Scaling')\n",
    "ax[0].plot(mean_sev_histtscal[:, 1], ls='--', marker='*', label='H Hist Temp-Scaling')\n",
    "ax[0].set_ylabel('ECE', fontsize=22)\n",
    "\n",
    "# ax[1].plot(mnll_sev_uncal, label='Uncalibrated')\n",
    "ax[1].plot(mean_sev_tscal[:, 3], ls='--', marker='*', label='Temp-Scaling')\n",
    "ax[1].plot(mean_sev_lhtscal[:, 3], ls='--', marker='*', label='$\\log H$ Temp-Scaling')\n",
    "ax[1].plot(mean_sev_dnntscal[:, 3], ls='--', marker='*', label='DNN Temp-Scaling')\n",
    "ax[1].plot(mean_sev_bdnntscal[:, 3], ls='--', marker='*', label='Big DNN Temp-Scaling')\n",
    "ax[1].plot(mean_sev_histtscal[:, 3], ls='--', marker='*', label='H Hist Temp-Scaling')\n",
    "ax[1].set_ylabel('NLL', fontsize=22)\n",
    "\n",
    "ax[2].plot(mean_sev_tscal[:, 2], ls='--', marker='*', label='Temp-Scaling')\n",
    "ax[2].plot(mean_sev_lhtscal[:, 2], ls='--', marker='*', label='$\\log H$ Temp-Scaling')\n",
    "ax[2].plot(mean_sev_dnntscal[:, 2], ls='--', marker='*', label='DNN Temp-Scaling')\n",
    "ax[2].plot(mean_sev_bdnntscal[:, 2], ls='--', marker='*', label='Big DNN Temp-Scaling')\n",
    "ax[2].plot(mean_sev_histtscal[:, 2], ls='--', marker='*', label='H Hist Temp-Scaling')\n",
    "ax[2].set_ylabel('Brier Score', fontsize=22)\n",
    "\n",
    "for _ax in ax.flatten():\n",
    "    _ax.set_xticks(np.arange(5))\n",
    "    _ax.set_xticklabels(np.arange(5) + 1)\n",
    "    _ax.legend(fontsize=18)\n",
    "    _ax.tick_params(axis='both', labelsize=18)\n",
    "    _ax.set_xlabel('Corruption level', fontsize=22)\n",
    "\n",
    "plt.show()"
   ]
  },
  {
   "cell_type": "code",
   "execution_count": null,
   "id": "a899bd4a",
   "metadata": {},
   "outputs": [],
   "source": [
    "cifar10c_TslH= {}\n",
    "cifar10c_TsDNN= {}\n",
    "\n",
    "for category in categories:\n",
    "    cifar10c_TslH[category] = {}\n",
    "    cifar10c_TsDNN[category] = {}\n",
    "    print('Computing Ts for corruption: {}'.format(category))\n",
    "    for severity in range(1, 6):\n",
    "        cifar10c_TslH[category][severity] = lhaTempScaler.get_T(cifar10c_logits[category][severity])\n",
    "        cifar10c_TsDNN[category][severity] = dnnaTempScaler.get_T(cifar10c_logits[category][severity])"
   ]
  },
  {
   "cell_type": "code",
   "execution_count": null,
   "id": "7cafa996",
   "metadata": {},
   "outputs": [],
   "source": [
    "mean_TslH = np.zeros(5)\n",
    "mean_TsDNN = np.zeros(5)\n",
    "for i in range(5):\n",
    "    for cat in categories:\n",
    "        mean_TslH[i] += np.mean(cifar10c_TslH[cat][i+1])\n",
    "        mean_TsDNN[i] += np.mean(cifar10c_TsDNN[cat][i+1])\n",
    "        \n",
    "mean_TslH /= len(categories)\n",
    "mean_TsDNN /= len(categories)"
   ]
  },
  {
   "cell_type": "code",
   "execution_count": null,
   "id": "c0767293",
   "metadata": {},
   "outputs": [],
   "source": [
    "print(mean_TslH)\n",
    "print(mean_TsDNN)"
   ]
  },
  {
   "cell_type": "markdown",
   "id": "380dd769",
   "metadata": {},
   "source": [
    "### Exposure to corruptions"
   ]
  },
  {
   "cell_type": "code",
   "execution_count": null,
   "id": "3485e845",
   "metadata": {},
   "outputs": [],
   "source": [
    "rnd_idx = np.random.permutation(10000)\n",
    "idx_train = rnd_idx[:3000]\n",
    "idx_test = rnd_idx[3000:]"
   ]
  },
  {
   "cell_type": "code",
   "execution_count": null,
   "id": "810bf765",
   "metadata": {},
   "outputs": [],
   "source": [
    "train_set = np.vstack([cifar10c_logits[cat][i+1][idx_train] for cat in categories for i in range(5)])\n",
    "y_train = np.hstack([cifar10c['labels'][idx_train] for cat in categories for i in range(5)])"
   ]
  },
  {
   "cell_type": "code",
   "execution_count": null,
   "id": "82e4187d",
   "metadata": {},
   "outputs": [],
   "source": [
    "### Temp-Scal as baseline:\n",
    "tempScaler = TempScaling()\n",
    "tempScaler.fit(train_set, y_train, v=True);"
   ]
  },
  {
   "cell_type": "code",
   "execution_count": null,
   "id": "d8fea59f",
   "metadata": {},
   "outputs": [],
   "source": [
    "lhaTempScaler = AdaTS(HlogbasedT(dim))\n",
    "lhaTempScaler = fitAdaTS(lhaTempScaler, train_set, y_train, epochs=10000, batch_size=1000, lr=1e-4, v=True, dev=dev)"
   ]
  },
  {
   "cell_type": "code",
   "execution_count": null,
   "id": "b879a972",
   "metadata": {},
   "outputs": [],
   "source": [
    "dnnaTempScaler = AdaTS(DNNbasedT(dim))\n",
    "dnnaTempScaler = fitAdaTS(dnnaTempScaler, train_set, y_train, epochs=10000, batch_size=1000, lr=1e-4, v=True, weight_decay=1e-2, dev=dev)"
   ]
  },
  {
   "cell_type": "code",
   "execution_count": null,
   "id": "6490f34f",
   "metadata": {},
   "outputs": [],
   "source": [
    "bdnnaTempScaler = AdaTS(DNNbasedT(dim, hs=[2*dim, 2*dim]))\n",
    "bdnnaTempScaler = fitAdaTS(bdnnaTempScaler, train_set, y_train, epochs=10000, batch_size=1000, lr=1e-4, v=True, weight_decay=1e-2, dev=dev)"
   ]
  },
  {
   "cell_type": "code",
   "execution_count": null,
   "id": "e839d670",
   "metadata": {},
   "outputs": [],
   "source": [
    "hisTS = HistTS()\n",
    "hisTS.fit(train_set, y_train)"
   ]
  },
  {
   "cell_type": "code",
   "execution_count": null,
   "id": "f9a76ee1",
   "metadata": {},
   "outputs": [],
   "source": [
    "cifar10c_metrics_uncal = {}\n",
    "cifar10c_metrics_tscal = {}\n",
    "cifar10c_metrics_lhtscal = {}\n",
    "cifar10c_metrics_dnntscal = {}\n",
    "cifar10c_metrics_bdnntscal = {}\n",
    "cifar10c_metrics_histtscal = {}\n",
    "\n",
    "for category in categories:\n",
    "    cifar10c_metrics_uncal[category] = {}\n",
    "    cifar10c_metrics_tscal[category] = {}\n",
    "    cifar10c_metrics_lhtscal[category] = {}\n",
    "    cifar10c_metrics_dnntscal[category] = {}\n",
    "    cifar10c_metrics_bdnntscal[category] = {}\n",
    "    cifar10c_metrics_histtscal[category] = {}\n",
    "    print('Computing metrics for corruption: {}'.format(category))\n",
    "    for severity in range(1, 6):\n",
    "        cifar10c_metrics_uncal[category][severity] = compute_metrics(cifar10c_logits[category][severity][idx_test], cifar10c['labels'][idx_test])\n",
    "        cifar10c_metrics_tscal[category][severity] = compute_metrics(tempScaler.predictive(cifar10c_logits[category][severity][idx_test]), cifar10c['labels'][idx_test], from_logits=False)\n",
    "        cifar10c_metrics_lhtscal[category][severity] = compute_metrics(lhaTempScaler.predictive(cifar10c_logits[category][severity][idx_test]), cifar10c['labels'][idx_test], from_logits=False)\n",
    "        cifar10c_metrics_dnntscal[category][severity] = compute_metrics(dnnaTempScaler.predictive(cifar10c_logits[category][severity][idx_test]), cifar10c['labels'][idx_test], from_logits=False)\n",
    "        cifar10c_metrics_bdnntscal[category][severity] = compute_metrics(bdnnaTempScaler.predictive(cifar10c_logits[category][severity][idx_test]), cifar10c['labels'][idx_test], from_logits=False)\n",
    "        cifar10c_metrics_histtscal[category][severity] = compute_metrics(hisTS.predictive(cifar10c_logits[category][severity][idx_test]), cifar10c['labels'][idx_test], from_logits=False)"
   ]
  },
  {
   "cell_type": "code",
   "execution_count": null,
   "id": "429ee894",
   "metadata": {},
   "outputs": [],
   "source": [
    "mean_sev_uncal = np.zeros((5, 4))\n",
    "mean_sev_tscal = np.zeros((5, 4))\n",
    "mean_sev_lhtscal = np.zeros((5, 4))\n",
    "mean_sev_dnntscal = np.zeros((5, 4))\n",
    "mean_sev_bdnntscal = np.zeros((5, 4))\n",
    "mean_sev_histtscal = np.zeros((5, 4))\n",
    "\n",
    "\n",
    "for i in range(5):\n",
    "    for cat in categories:\n",
    "        mean_sev_uncal[i] += cifar10c_metrics_uncal[cat][i+1]\n",
    "        mean_sev_tscal[i] += cifar10c_metrics_tscal[cat][i+1]\n",
    "        mean_sev_lhtscal[i] += cifar10c_metrics_lhtscal[cat][i+1]\n",
    "        mean_sev_dnntscal[i] += cifar10c_metrics_dnntscal[cat][i+1]\n",
    "        mean_sev_bdnntscal[i] += cifar10c_metrics_bdnntscal[cat][i+1]\n",
    "        mean_sev_histtscal[i] += cifar10c_metrics_histtscal[cat][i+1]\n",
    "        \n",
    "mean_sev_uncal /= len(categories)\n",
    "mean_sev_tscal /= len(categories)\n",
    "mean_sev_lhtscal /= len(categories)\n",
    "mean_sev_dnntscal /= len(categories)\n",
    "mean_sev_bdnntscal /= len(categories)\n",
    "mean_sev_histtscal /= len(categories)"
   ]
  },
  {
   "cell_type": "code",
   "execution_count": null,
   "id": "407c5a16",
   "metadata": {
    "scrolled": false
   },
   "outputs": [],
   "source": [
    "fig, ax = plt.subplots(3, 1, figsize=(28, 33))\n",
    "\n",
    "# ax[0].plot(mean_sev_uncal[:, 1], ls='--', marker='*', label='Uncalibrated')\n",
    "ax[0].plot(mean_sev_tscal[:, 1], ls='--', marker='*', label='Temp-Scaling')\n",
    "ax[0].plot(mean_sev_lhtscal[:, 1], ls='--', marker='*', label='$\\log H$ Temp-Scaling')\n",
    "ax[0].plot(mean_sev_dnntscal[:, 1], ls='--', marker='*', label='DNN Temp-Scaling')\n",
    "ax[0].plot(mean_sev_bdnntscal[:, 1], ls='--', marker='*', label='Big DNN Temp-Scaling')\n",
    "ax[0].plot(mean_sev_histtscal[:, 1], ls='--', marker='*', label='H Hist Temp-Scaling')\n",
    "ax[0].set_ylabel('ECE', fontsize=22)\n",
    "\n",
    "# ax[1].plot(mnll_sev_uncal, label='Uncalibrated')\n",
    "ax[1].plot(mean_sev_tscal[:, 3], ls='--', marker='*', label='Temp-Scaling')\n",
    "ax[1].plot(mean_sev_lhtscal[:, 3], ls='--', marker='*', label='$\\log H$ Temp-Scaling')\n",
    "ax[1].plot(mean_sev_dnntscal[:, 3], ls='--', marker='*', label='DNN Temp-Scaling')\n",
    "ax[1].plot(mean_sev_bdnntscal[:, 3], ls='--', marker='*', label='Big DNN Temp-Scaling')\n",
    "ax[1].plot(mean_sev_histtscal[:, 3], ls='--', marker='*', label='H Hist Temp-Scaling')\n",
    "ax[1].set_ylabel('NLL', fontsize=22)\n",
    "\n",
    "ax[2].plot(mean_sev_tscal[:, 2], ls='--', marker='*', label='Temp-Scaling')\n",
    "ax[2].plot(mean_sev_lhtscal[:, 2], ls='--', marker='*', label='$\\log H$ Temp-Scaling')\n",
    "ax[2].plot(mean_sev_dnntscal[:, 2], ls='--', marker='*', label='DNN Temp-Scaling')\n",
    "ax[2].plot(mean_sev_bdnntscal[:, 2], ls='--', marker='*', label='Big DNN Temp-Scaling')\n",
    "ax[2].plot(mean_sev_histtscal[:, 2], ls='--', marker='*', label='H Hist Temp-Scaling')\n",
    "ax[2].set_ylabel('Brier Score', fontsize=22)\n",
    "\n",
    "for _ax in ax.flatten():\n",
    "    _ax.set_xticks(np.arange(5))\n",
    "    _ax.set_xticklabels(np.arange(5) + 1)\n",
    "    _ax.legend(fontsize=18)\n",
    "    _ax.tick_params(axis='both', labelsize=18)\n",
    "    _ax.set_xlabel('Corruption level', fontsize=22)\n",
    "\n",
    "plt.show()"
   ]
  },
  {
   "cell_type": "code",
   "execution_count": null,
   "id": "20e8e695",
   "metadata": {},
   "outputs": [],
   "source": []
  }
 ],
 "metadata": {
  "kernelspec": {
   "display_name": "Python 3",
   "language": "python",
   "name": "python3"
  },
  "language_info": {
   "codemirror_mode": {
    "name": "ipython",
    "version": 3
   },
   "file_extension": ".py",
   "mimetype": "text/x-python",
   "name": "python",
   "nbconvert_exporter": "python",
   "pygments_lexer": "ipython3",
   "version": "3.8.8"
  }
 },
 "nbformat": 4,
 "nbformat_minor": 5
}
